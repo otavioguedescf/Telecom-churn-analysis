{
 "cells": [
  {
   "cell_type": "markdown",
   "id": "00371241",
   "metadata": {},
   "source": [
    "# Módulo 1 - Importações e Configuração Inicial"
   ]
  },
  {
   "cell_type": "markdown",
   "id": "70d27491",
   "metadata": {},
   "source": [
    "## 1.1 Importar bibliotecas necessárias"
   ]
  },
  {
   "cell_type": "code",
   "execution_count": 318,
   "id": "b48e5c7d",
   "metadata": {},
   "outputs": [],
   "source": [
    "#Instalações\n",
    "#pip install tf-keras\n",
    "#pip install transformers\n",
    "#pip install torch\n",
    "#pip install sentence-transformers\n",
    "#pip install transformers sentencepiece\n",
    "\n",
    "# Manipulação de dados\n",
    "import pandas as pd\n",
    "import numpy as np\n",
    "from datetime import datetime\n",
    "\n",
    "# Visualização de dados\n",
    "import matplotlib.pyplot as plt\n",
    "import seaborn as sns\n",
    "\n",
    "# Outros utilitarios\n",
    "import random\n",
    "import warnings\n",
    "import os\n",
    "import torch\n",
    "from transformers import pipeline\n",
    "from tqdm import tqdm\n",
    "import nltk\n",
    "from nltk.corpus import stopwords\n",
    "from collections import Counter\n",
    "import re\n"
   ]
  },
  {
   "cell_type": "markdown",
   "id": "c4e74d64",
   "metadata": {},
   "source": [
    "## 1.2 Configurar ambiente (display pandas, warnings, random seed, etc.)"
   ]
  },
  {
   "cell_type": "code",
   "execution_count": 319,
   "id": "a09401f6",
   "metadata": {},
   "outputs": [],
   "source": [
    "# Suprimir warnings desnecessários\n",
    "warnings.filterwarnings(\"ignore\")\n",
    "\n",
    "# Exibir todas as colunas nos DataFrames\n",
    "pd.set_option(\"display.max_columns\", None)\n",
    "\n",
    "# Formatação de floats\n",
    "pd.set_option(\"display.float_format\",lambda x:f\"{x:,.2f}\")\n",
    "\n",
    "# Estilo dos gráficos\n",
    "sns.set(style=\"whitegrid\")\n",
    "\n",
    "# Definir seed para reprodutibilidade\n",
    "SEED = 42\n",
    "random.seed(SEED)\n",
    "np.random.seed(SEED)"
   ]
  },
  {
   "cell_type": "markdown",
   "id": "c40a60d6",
   "metadata": {},
   "source": [
    "# Módulo 2 - Carregamento e Pré-Tratamento dos Dados"
   ]
  },
  {
   "cell_type": "markdown",
   "id": "51f3284d",
   "metadata": {},
   "source": [
    "## 2.1 Leitura do arquivo original (.csv)"
   ]
  },
  {
   "cell_type": "code",
   "execution_count": 320,
   "id": "4b61478d",
   "metadata": {},
   "outputs": [
    {
     "data": {
      "text/html": [
       "<div>\n",
       "<style scoped>\n",
       "    .dataframe tbody tr th:only-of-type {\n",
       "        vertical-align: middle;\n",
       "    }\n",
       "\n",
       "    .dataframe tbody tr th {\n",
       "        vertical-align: top;\n",
       "    }\n",
       "\n",
       "    .dataframe thead th {\n",
       "        text-align: right;\n",
       "    }\n",
       "</style>\n",
       "<table border=\"1\" class=\"dataframe\">\n",
       "  <thead>\n",
       "    <tr style=\"text-align: right;\">\n",
       "      <th></th>\n",
       "      <th>ID</th>\n",
       "      <th>Nome</th>\n",
       "      <th>Idade</th>\n",
       "      <th>Gênero</th>\n",
       "      <th>Localização</th>\n",
       "      <th>Estado Civil</th>\n",
       "      <th>Número de Dependentes</th>\n",
       "      <th>Data de Início do Contrato</th>\n",
       "      <th>Data de Término do Contrato</th>\n",
       "      <th>Valor Mensal do Contrato</th>\n",
       "      <th>Tipo de Serviço</th>\n",
       "      <th>Duração Média das Chamadas</th>\n",
       "      <th>Volume de Dados</th>\n",
       "      <th>Número de Reclamações</th>\n",
       "      <th>Comentários</th>\n",
       "    </tr>\n",
       "  </thead>\n",
       "  <tbody>\n",
       "    <tr>\n",
       "      <th>0</th>\n",
       "      <td>1</td>\n",
       "      <td>João Silva</td>\n",
       "      <td>35</td>\n",
       "      <td>Masculino</td>\n",
       "      <td>São Paulo/SP/São Paulo</td>\n",
       "      <td>Casado</td>\n",
       "      <td>2</td>\n",
       "      <td>2018-05-10</td>\n",
       "      <td>NaN</td>\n",
       "      <td>79.99</td>\n",
       "      <td>Telefonia Móvel</td>\n",
       "      <td>4.50</td>\n",
       "      <td>2.3 GB</td>\n",
       "      <td>2</td>\n",
       "      <td>O serviço de internet tem sido instável. Estou tendo dificuldades para realizar videochamadas e assistir a filmes online. A velocidade da conexão é muito lenta e cai com frequência.</td>\n",
       "    </tr>\n",
       "    <tr>\n",
       "      <th>1</th>\n",
       "      <td>2</td>\n",
       "      <td>Maria Santos</td>\n",
       "      <td>28</td>\n",
       "      <td>Feminino</td>\n",
       "      <td>Rio de Janeiro/RJ/Rio de Janeiro</td>\n",
       "      <td>Solteiro</td>\n",
       "      <td>0</td>\n",
       "      <td>2019-03-15</td>\n",
       "      <td>NaN</td>\n",
       "      <td>109.99</td>\n",
       "      <td>Internet</td>\n",
       "      <td>NaN</td>\n",
       "      <td>-</td>\n",
       "      <td>0</td>\n",
       "      <td>Estou satisfeita com o serviço. A velocidade da internet é ótima e o suporte técnico sempre foi prestativo. Nunca tive problemas de conexão desde que assinei o serviço.</td>\n",
       "    </tr>\n",
       "    <tr>\n",
       "      <th>2</th>\n",
       "      <td>3</td>\n",
       "      <td>Carlos Oliveira</td>\n",
       "      <td>42</td>\n",
       "      <td>Masculino</td>\n",
       "      <td>Belo Horizonte/MG/Minas Gerais</td>\n",
       "      <td>Casado</td>\n",
       "      <td>1</td>\n",
       "      <td>2020-01-20</td>\n",
       "      <td>2021-06-30</td>\n",
       "      <td>139.99</td>\n",
       "      <td>Internet</td>\n",
       "      <td>NaN</td>\n",
       "      <td>-</td>\n",
       "      <td>1</td>\n",
       "      <td>Tive problemas com a fatura deste mês. O valor cobrado está incorreto e não consigo entrar em contato com o atendimento ao cliente. Já enviei diversos emails e tentei ligar várias vezes, mas não obtive resposta.</td>\n",
       "    </tr>\n",
       "    <tr>\n",
       "      <th>3</th>\n",
       "      <td>4</td>\n",
       "      <td>Ana Pereira</td>\n",
       "      <td>55</td>\n",
       "      <td>Feminino</td>\n",
       "      <td>Porto Alegre/RS/Rio Grande do Sul</td>\n",
       "      <td>Viúvo</td>\n",
       "      <td>0</td>\n",
       "      <td>2017-09-01</td>\n",
       "      <td>NaN</td>\n",
       "      <td>159.99</td>\n",
       "      <td>Telefonia Fixa</td>\n",
       "      <td>6.20</td>\n",
       "      <td>NaN</td>\n",
       "      <td>-</td>\n",
       "      <td>Sem reclamações até o momento. O serviço tem atendido às minhas expectativas e não tenho tido problemas com a conexão. As ligações são claras e o atendimento ao cliente é bom.</td>\n",
       "    </tr>\n",
       "    <tr>\n",
       "      <th>4</th>\n",
       "      <td>5</td>\n",
       "      <td>Paulo Rodrigues</td>\n",
       "      <td>41</td>\n",
       "      <td>Masculino</td>\n",
       "      <td>Brasília/DF</td>\n",
       "      <td>Divorciado</td>\n",
       "      <td>3</td>\n",
       "      <td>2019-11-12</td>\n",
       "      <td>2022-01-05</td>\n",
       "      <td>99.99</td>\n",
       "      <td>TV a Cabo</td>\n",
       "      <td>NaN</td>\n",
       "      <td>-</td>\n",
       "      <td>0</td>\n",
       "      <td>O canal de esportes não está funcionando corretamente. A imagem fica pixelada e o áudio está com falhas. Já entrei em contato com o suporte técnico algumas vezes, mas o problema persiste.</td>\n",
       "    </tr>\n",
       "  </tbody>\n",
       "</table>\n",
       "</div>"
      ],
      "text/plain": [
       "   ID             Nome  Idade     Gênero                        Localização  \\\n",
       "0   1       João Silva     35  Masculino             São Paulo/SP/São Paulo   \n",
       "1   2     Maria Santos     28   Feminino   Rio de Janeiro/RJ/Rio de Janeiro   \n",
       "2   3  Carlos Oliveira     42  Masculino     Belo Horizonte/MG/Minas Gerais   \n",
       "3   4      Ana Pereira     55   Feminino  Porto Alegre/RS/Rio Grande do Sul   \n",
       "4   5  Paulo Rodrigues     41  Masculino                        Brasília/DF   \n",
       "\n",
       "  Estado Civil  Número de Dependentes Data de Início do Contrato  \\\n",
       "0       Casado                      2                 2018-05-10   \n",
       "1     Solteiro                      0                 2019-03-15   \n",
       "2       Casado                      1                 2020-01-20   \n",
       "3        Viúvo                      0                 2017-09-01   \n",
       "4   Divorciado                      3                 2019-11-12   \n",
       "\n",
       "  Data de Término do Contrato  Valor Mensal do Contrato  Tipo de Serviço  \\\n",
       "0                         NaN                     79.99  Telefonia Móvel   \n",
       "1                         NaN                    109.99         Internet   \n",
       "2                  2021-06-30                    139.99         Internet   \n",
       "3                         NaN                    159.99   Telefonia Fixa   \n",
       "4                  2022-01-05                     99.99        TV a Cabo   \n",
       "\n",
       "   Duração Média das Chamadas Volume de Dados Número de Reclamações  \\\n",
       "0                        4.50          2.3 GB                     2   \n",
       "1                         NaN               -                     0   \n",
       "2                         NaN               -                     1   \n",
       "3                        6.20             NaN                     -   \n",
       "4                         NaN               -                     0   \n",
       "\n",
       "                                                                                                                                                                                                           Comentários  \n",
       "0                                O serviço de internet tem sido instável. Estou tendo dificuldades para realizar videochamadas e assistir a filmes online. A velocidade da conexão é muito lenta e cai com frequência.  \n",
       "1                                             Estou satisfeita com o serviço. A velocidade da internet é ótima e o suporte técnico sempre foi prestativo. Nunca tive problemas de conexão desde que assinei o serviço.  \n",
       "2  Tive problemas com a fatura deste mês. O valor cobrado está incorreto e não consigo entrar em contato com o atendimento ao cliente. Já enviei diversos emails e tentei ligar várias vezes, mas não obtive resposta.  \n",
       "3                                      Sem reclamações até o momento. O serviço tem atendido às minhas expectativas e não tenho tido problemas com a conexão. As ligações são claras e o atendimento ao cliente é bom.  \n",
       "4                          O canal de esportes não está funcionando corretamente. A imagem fica pixelada e o áudio está com falhas. Já entrei em contato com o suporte técnico algumas vezes, mas o problema persiste.  "
      ]
     },
     "execution_count": 320,
     "metadata": {},
     "output_type": "execute_result"
    }
   ],
   "source": [
    "# Definindo o caminho do arquivo CSV\n",
    "caminho_arquivo= \"G:/Meu Drive/Data Science/Projetos/Telecom churn analysis/data/beta_churn_com_texto.csv\"\n",
    "\n",
    "# Lendo o arquivo com o pandas\n",
    "df_original= pd.read_csv(caminho_arquivo)\n",
    "\n",
    "# Exibindo as primeiras linhas para visualização inicial\n",
    "df_original.head()"
   ]
  },
  {
   "cell_type": "markdown",
   "id": "f0b31d43",
   "metadata": {},
   "source": [
    "## 2.2 Exibição geral com .info(), .head(), .describe()"
   ]
  },
  {
   "cell_type": "code",
   "execution_count": 321,
   "id": "ed2ac4fd",
   "metadata": {},
   "outputs": [
    {
     "name": "stdout",
     "output_type": "stream",
     "text": [
      "<class 'pandas.core.frame.DataFrame'>\n",
      "RangeIndex: 102 entries, 0 to 101\n",
      "Data columns (total 15 columns):\n",
      " #   Column                       Non-Null Count  Dtype  \n",
      "---  ------                       --------------  -----  \n",
      " 0   ID                           102 non-null    int64  \n",
      " 1   Nome                         102 non-null    object \n",
      " 2   Idade                        102 non-null    int64  \n",
      " 3   Gênero                       102 non-null    object \n",
      " 4   Localização                  102 non-null    object \n",
      " 5   Estado Civil                 102 non-null    object \n",
      " 6   Número de Dependentes        102 non-null    int64  \n",
      " 7   Data de Início do Contrato   102 non-null    object \n",
      " 8   Data de Término do Contrato  4 non-null      object \n",
      " 9   Valor Mensal do Contrato     102 non-null    float64\n",
      " 10  Tipo de Serviço              102 non-null    object \n",
      " 11  Duração Média das Chamadas   62 non-null     float64\n",
      " 12  Volume de Dados              87 non-null     object \n",
      " 13  Número de Reclamações        102 non-null    object \n",
      " 14  Comentários                  69 non-null     object \n",
      "dtypes: float64(2), int64(3), object(10)\n",
      "memory usage: 12.1+ KB\n"
     ]
    }
   ],
   "source": [
    "# Informações gerais sobre o DataFrame\n",
    "df_original.info()"
   ]
  },
  {
   "cell_type": "code",
   "execution_count": 322,
   "id": "e875ad77",
   "metadata": {},
   "outputs": [
    {
     "data": {
      "text/html": [
       "<div>\n",
       "<style scoped>\n",
       "    .dataframe tbody tr th:only-of-type {\n",
       "        vertical-align: middle;\n",
       "    }\n",
       "\n",
       "    .dataframe tbody tr th {\n",
       "        vertical-align: top;\n",
       "    }\n",
       "\n",
       "    .dataframe thead th {\n",
       "        text-align: right;\n",
       "    }\n",
       "</style>\n",
       "<table border=\"1\" class=\"dataframe\">\n",
       "  <thead>\n",
       "    <tr style=\"text-align: right;\">\n",
       "      <th></th>\n",
       "      <th>ID</th>\n",
       "      <th>Idade</th>\n",
       "      <th>Número de Dependentes</th>\n",
       "      <th>Valor Mensal do Contrato</th>\n",
       "      <th>Duração Média das Chamadas</th>\n",
       "    </tr>\n",
       "  </thead>\n",
       "  <tbody>\n",
       "    <tr>\n",
       "      <th>count</th>\n",
       "      <td>102.00</td>\n",
       "      <td>102.00</td>\n",
       "      <td>102.00</td>\n",
       "      <td>102.00</td>\n",
       "      <td>62.00</td>\n",
       "    </tr>\n",
       "    <tr>\n",
       "      <th>mean</th>\n",
       "      <td>999.39</td>\n",
       "      <td>34.18</td>\n",
       "      <td>0.86</td>\n",
       "      <td>120.87</td>\n",
       "      <td>3.67</td>\n",
       "    </tr>\n",
       "    <tr>\n",
       "      <th>std</th>\n",
       "      <td>229.21</td>\n",
       "      <td>5.83</td>\n",
       "      <td>0.92</td>\n",
       "      <td>27.22</td>\n",
       "      <td>1.88</td>\n",
       "    </tr>\n",
       "    <tr>\n",
       "      <th>min</th>\n",
       "      <td>1.00</td>\n",
       "      <td>26.00</td>\n",
       "      <td>0.00</td>\n",
       "      <td>69.99</td>\n",
       "      <td>1.10</td>\n",
       "    </tr>\n",
       "    <tr>\n",
       "      <th>25%</th>\n",
       "      <td>1,021.25</td>\n",
       "      <td>29.00</td>\n",
       "      <td>0.00</td>\n",
       "      <td>99.99</td>\n",
       "      <td>2.12</td>\n",
       "    </tr>\n",
       "    <tr>\n",
       "      <th>50%</th>\n",
       "      <td>1,047.00</td>\n",
       "      <td>33.00</td>\n",
       "      <td>1.00</td>\n",
       "      <td>109.99</td>\n",
       "      <td>3.80</td>\n",
       "    </tr>\n",
       "    <tr>\n",
       "      <th>75%</th>\n",
       "      <td>1,074.75</td>\n",
       "      <td>38.75</td>\n",
       "      <td>2.00</td>\n",
       "      <td>139.99</td>\n",
       "      <td>5.02</td>\n",
       "    </tr>\n",
       "    <tr>\n",
       "      <th>max</th>\n",
       "      <td>1,102.00</td>\n",
       "      <td>55.00</td>\n",
       "      <td>3.00</td>\n",
       "      <td>189.99</td>\n",
       "      <td>7.50</td>\n",
       "    </tr>\n",
       "  </tbody>\n",
       "</table>\n",
       "</div>"
      ],
      "text/plain": [
       "            ID  Idade  Número de Dependentes  Valor Mensal do Contrato  \\\n",
       "count   102.00 102.00                 102.00                    102.00   \n",
       "mean    999.39  34.18                   0.86                    120.87   \n",
       "std     229.21   5.83                   0.92                     27.22   \n",
       "min       1.00  26.00                   0.00                     69.99   \n",
       "25%   1,021.25  29.00                   0.00                     99.99   \n",
       "50%   1,047.00  33.00                   1.00                    109.99   \n",
       "75%   1,074.75  38.75                   2.00                    139.99   \n",
       "max   1,102.00  55.00                   3.00                    189.99   \n",
       "\n",
       "       Duração Média das Chamadas  \n",
       "count                       62.00  \n",
       "mean                         3.67  \n",
       "std                          1.88  \n",
       "min                          1.10  \n",
       "25%                          2.12  \n",
       "50%                          3.80  \n",
       "75%                          5.02  \n",
       "max                          7.50  "
      ]
     },
     "execution_count": 322,
     "metadata": {},
     "output_type": "execute_result"
    }
   ],
   "source": [
    "# Estatísticas das colunas numéricas\n",
    "df_original.describe()"
   ]
  },
  {
   "cell_type": "code",
   "execution_count": 323,
   "id": "a46d73df",
   "metadata": {},
   "outputs": [
    {
     "name": "stdout",
     "output_type": "stream",
     "text": [
      "Colunas: ['ID', 'Nome', 'Idade', 'Gênero', 'Localização', 'Estado Civil', 'Número de Dependentes', 'Data de Início do Contrato', 'Data de Término do Contrato', 'Valor Mensal do Contrato', 'Tipo de Serviço', 'Duração Média das Chamadas', 'Volume de Dados', 'Número de Reclamações', 'Comentários']\n"
     ]
    }
   ],
   "source": [
    "# Visualizando colunas do dataset\n",
    "print(\"Colunas:\", df_original.columns.to_list())"
   ]
  },
  {
   "cell_type": "code",
   "execution_count": 324,
   "id": "70ef2ece",
   "metadata": {},
   "outputs": [
    {
     "data": {
      "text/plain": [
       "ID                              0\n",
       "Nome                            0\n",
       "Idade                           0\n",
       "Gênero                          0\n",
       "Localização                     0\n",
       "Estado Civil                    0\n",
       "Número de Dependentes           0\n",
       "Data de Início do Contrato      0\n",
       "Data de Término do Contrato    98\n",
       "Valor Mensal do Contrato        0\n",
       "Tipo de Serviço                 0\n",
       "Duração Média das Chamadas     40\n",
       "Volume de Dados                15\n",
       "Número de Reclamações           0\n",
       "Comentários                    33\n",
       "dtype: int64"
      ]
     },
     "execution_count": 324,
     "metadata": {},
     "output_type": "execute_result"
    }
   ],
   "source": [
    "# Contagem de valores nulos\n",
    "df_original.isna().sum()"
   ]
  },
  {
   "cell_type": "code",
   "execution_count": 325,
   "id": "c157276b",
   "metadata": {},
   "outputs": [
    {
     "name": "stdout",
     "output_type": "stream",
     "text": [
      "ID:101\n",
      "Nome:89\n",
      "Idade:22\n",
      "Gênero:2\n",
      "Localização:6\n",
      "Estado Civil:4\n",
      "Número de Dependentes:4\n",
      "Data de Início do Contrato:56\n",
      "Data de Término do Contrato:4\n",
      "Valor Mensal do Contrato:12\n",
      "Tipo de Serviço:4\n",
      "Duração Média das Chamadas:35\n",
      "Volume de Dados:9\n",
      "Número de Reclamações:36\n",
      "Comentários:61\n"
     ]
    }
   ],
   "source": [
    "# Valores unicos em cada coluna\n",
    "for col in df_original.columns:\n",
    "    print(f\"{col}:{df_original[col].nunique()}\")"
   ]
  },
  {
   "cell_type": "markdown",
   "id": "ee274346",
   "metadata": {},
   "source": [
    "## 2.3 Conversão de colunas de data"
   ]
  },
  {
   "cell_type": "code",
   "execution_count": 326,
   "id": "e67bc9a2",
   "metadata": {},
   "outputs": [
    {
     "name": "stdout",
     "output_type": "stream",
     "text": [
      "Data de Início do Contrato     datetime64[ns]\n",
      "Data de Término do Contrato    datetime64[ns]\n",
      "dtype: object\n"
     ]
    }
   ],
   "source": [
    "# Convertendo as coluna para datetime\n",
    "df_original[\"Data de Início do Contrato\"]= pd.to_datetime(\n",
    "    df_original[\"Data de Início do Contrato\"], format=\"%Y-%m-%d\", errors=\"coerce\"\n",
    ")\n",
    "\n",
    "df_original[\"Data de Término do Contrato\"] = pd.to_datetime(\n",
    "    df_original[\"Data de Término do Contrato\"], format=\"%Y-%m-%d\", errors=\"coerce\"\n",
    ")\n",
    "\n",
    "# Exibindo os tipos apos conversão\n",
    "print(df_original[[\"Data de Início do Contrato\",\"Data de Término do Contrato\"]].dtypes)"
   ]
  },
  {
   "cell_type": "code",
   "execution_count": 327,
   "id": "13a7ff9c",
   "metadata": {},
   "outputs": [
    {
     "name": "stdout",
     "output_type": "stream",
     "text": [
      "\n",
      "   Data de Início do Contrato Data de Término do Contrato\n",
      "0                 2018-05-10                         NaT\n",
      "1                 2019-03-15                         NaT\n",
      "2                 2020-01-20                  2021-06-30\n"
     ]
    }
   ],
   "source": [
    "# Exibindo as primeiras linhas para validar visualmente\n",
    "print(\"\\n\",df_original[[\"Data de Início do Contrato\",\"Data de Término do Contrato\"]].head(3))"
   ]
  },
  {
   "cell_type": "markdown",
   "id": "fcc5a0d0",
   "metadata": {},
   "source": [
    "## 2.4 Criação da variável Churn"
   ]
  },
  {
   "cell_type": "code",
   "execution_count": 328,
   "id": "334b7590",
   "metadata": {},
   "outputs": [],
   "source": [
    "# Regra: Se a \"Data de Término do Contrato\" estiver preenchida quer dizer que o cliente cancelou nesse caso \"Churn = 1\", caso contrário \"Churn = 0\"\n",
    "\n",
    "# Criando a coluna Churn\n",
    "df_original[\"Churn\"]= df_original[\"Data de Término do Contrato\"].notnull().astype(int)"
   ]
  },
  {
   "cell_type": "code",
   "execution_count": 329,
   "id": "f3f85985",
   "metadata": {},
   "outputs": [
    {
     "data": {
      "text/html": [
       "<div>\n",
       "<style scoped>\n",
       "    .dataframe tbody tr th:only-of-type {\n",
       "        vertical-align: middle;\n",
       "    }\n",
       "\n",
       "    .dataframe tbody tr th {\n",
       "        vertical-align: top;\n",
       "    }\n",
       "\n",
       "    .dataframe thead th {\n",
       "        text-align: right;\n",
       "    }\n",
       "</style>\n",
       "<table border=\"1\" class=\"dataframe\">\n",
       "  <thead>\n",
       "    <tr style=\"text-align: right;\">\n",
       "      <th></th>\n",
       "      <th>Data de Início do Contrato</th>\n",
       "      <th>Data de Término do Contrato</th>\n",
       "      <th>Churn</th>\n",
       "    </tr>\n",
       "  </thead>\n",
       "  <tbody>\n",
       "    <tr>\n",
       "      <th>0</th>\n",
       "      <td>2018-05-10</td>\n",
       "      <td>NaT</td>\n",
       "      <td>0</td>\n",
       "    </tr>\n",
       "    <tr>\n",
       "      <th>1</th>\n",
       "      <td>2019-03-15</td>\n",
       "      <td>NaT</td>\n",
       "      <td>0</td>\n",
       "    </tr>\n",
       "    <tr>\n",
       "      <th>2</th>\n",
       "      <td>2020-01-20</td>\n",
       "      <td>2021-06-30</td>\n",
       "      <td>1</td>\n",
       "    </tr>\n",
       "  </tbody>\n",
       "</table>\n",
       "</div>"
      ],
      "text/plain": [
       "  Data de Início do Contrato Data de Término do Contrato  Churn\n",
       "0                 2018-05-10                         NaT      0\n",
       "1                 2019-03-15                         NaT      0\n",
       "2                 2020-01-20                  2021-06-30      1"
      ]
     },
     "execution_count": 329,
     "metadata": {},
     "output_type": "execute_result"
    }
   ],
   "source": [
    "# Validando a coluna \"Churn\"\n",
    "df_original[[\"Data de Início do Contrato\",\"Data de Término do Contrato\",\"Churn\"]].head(3)"
   ]
  },
  {
   "cell_type": "code",
   "execution_count": 330,
   "id": "1271e16e",
   "metadata": {},
   "outputs": [
    {
     "data": {
      "text/plain": [
       "Churn\n",
       "0    98\n",
       "1     4\n",
       "Name: count, dtype: int64"
      ]
     },
     "execution_count": 330,
     "metadata": {},
     "output_type": "execute_result"
    }
   ],
   "source": [
    "# Verificando a distribuição dos valores de Churn\n",
    "df_original[\"Churn\"].value_counts()"
   ]
  },
  {
   "cell_type": "code",
   "execution_count": 331,
   "id": "ad0a591c",
   "metadata": {},
   "outputs": [
    {
     "name": "stdout",
     "output_type": "stream",
     "text": [
      "Churn\n",
      "0   96.08\n",
      "1    3.92\n",
      "Name: count, dtype: float64\n"
     ]
    }
   ],
   "source": [
    "# Percentual de churn do DataFrame\n",
    "print((df_original[\"Churn\"].value_counts()/df_original.shape[0])*100)"
   ]
  },
  {
   "cell_type": "markdown",
   "id": "c3db68c4",
   "metadata": {},
   "source": [
    "## 2.5 Cálculo de tempo de contrato (em meses)"
   ]
  },
  {
   "cell_type": "code",
   "execution_count": 332,
   "id": "a737143b",
   "metadata": {},
   "outputs": [],
   "source": [
    "# Data atual\n",
    "data_hoje = pd.to_datetime(datetime.today())\n",
    "\n",
    "# Criando uma coluna com a data de referência para cada cliente\n",
    "# Regra: Se houver término, usamos o término, do contrário utilizamos a data atual\n",
    "df_original[\"Data de Referência\"]= df_original[\"Data de Término do Contrato\"].fillna(data_hoje)"
   ]
  },
  {
   "cell_type": "code",
   "execution_count": 333,
   "id": "87720c2c",
   "metadata": {},
   "outputs": [],
   "source": [
    "# Convertendo a coluna \"Data de Referência\" em datatime\n",
    "df_original[\"Data de Referência\"] = pd.to_datetime(\n",
    "    df_original[\"Data de Referência\"], format=\"%d/%m/%Y\", errors=\"coerce\"\n",
    ")"
   ]
  },
  {
   "cell_type": "code",
   "execution_count": 334,
   "id": "d22425c3",
   "metadata": {},
   "outputs": [],
   "source": [
    "# Calculando os dis entre a data de referência e a data de início\n",
    "df_original[\"Dias de Contrato\"]= (\n",
    "    (df_original[\"Data de Referência\"] - df_original[\"Data de Início do Contrato\"]).dt.days\n",
    ")"
   ]
  },
  {
   "cell_type": "code",
   "execution_count": 335,
   "id": "98722e36",
   "metadata": {},
   "outputs": [],
   "source": [
    "# Convertendo dias para meses comerciais (divisao por dia)\n",
    "df_original[\"Meses de Contrato\"]= (\n",
    "    (df_original[\"Dias de Contrato\"] / 30).round(0).astype(int)\n",
    ")"
   ]
  },
  {
   "cell_type": "code",
   "execution_count": 336,
   "id": "7c1cd4f8",
   "metadata": {},
   "outputs": [
    {
     "data": {
      "text/html": [
       "<div>\n",
       "<style scoped>\n",
       "    .dataframe tbody tr th:only-of-type {\n",
       "        vertical-align: middle;\n",
       "    }\n",
       "\n",
       "    .dataframe tbody tr th {\n",
       "        vertical-align: top;\n",
       "    }\n",
       "\n",
       "    .dataframe thead th {\n",
       "        text-align: right;\n",
       "    }\n",
       "</style>\n",
       "<table border=\"1\" class=\"dataframe\">\n",
       "  <thead>\n",
       "    <tr style=\"text-align: right;\">\n",
       "      <th></th>\n",
       "      <th>Dias de Contrato</th>\n",
       "      <th>Meses de Contrato</th>\n",
       "    </tr>\n",
       "  </thead>\n",
       "  <tbody>\n",
       "    <tr>\n",
       "      <th>0</th>\n",
       "      <td>2565</td>\n",
       "      <td>86</td>\n",
       "    </tr>\n",
       "    <tr>\n",
       "      <th>1</th>\n",
       "      <td>2256</td>\n",
       "      <td>75</td>\n",
       "    </tr>\n",
       "    <tr>\n",
       "      <th>2</th>\n",
       "      <td>527</td>\n",
       "      <td>18</td>\n",
       "    </tr>\n",
       "    <tr>\n",
       "      <th>3</th>\n",
       "      <td>2816</td>\n",
       "      <td>94</td>\n",
       "    </tr>\n",
       "    <tr>\n",
       "      <th>4</th>\n",
       "      <td>785</td>\n",
       "      <td>26</td>\n",
       "    </tr>\n",
       "  </tbody>\n",
       "</table>\n",
       "</div>"
      ],
      "text/plain": [
       "   Dias de Contrato  Meses de Contrato\n",
       "0              2565                 86\n",
       "1              2256                 75\n",
       "2               527                 18\n",
       "3              2816                 94\n",
       "4               785                 26"
      ]
     },
     "execution_count": 336,
     "metadata": {},
     "output_type": "execute_result"
    }
   ],
   "source": [
    "# Visualizando as coluns \"Dias de Contrato\" e \"Meses de Contrato\"\n",
    "df_original[[\"Dias de Contrato\",\"Meses de Contrato\"]].head()"
   ]
  },
  {
   "cell_type": "markdown",
   "id": "b8361ba8",
   "metadata": {},
   "source": [
    "## 2.6 Tratamento de valores ausentes"
   ]
  },
  {
   "cell_type": "code",
   "execution_count": 337,
   "id": "04692fd5",
   "metadata": {},
   "outputs": [],
   "source": [
    "# Função para identificar se o valor da coluna é um comentário\n",
    "def e_comentario(valor):\n",
    "    if pd.isna(valor):\n",
    "        return False\n",
    "    return len(str(valor).strip()) > 5\n",
    "\n",
    "# Aplicar linha a linha\n",
    "for i in df_original.index:\n",
    "    valor = df_original.loc[i, \"Número de Reclamações\"]\n",
    "    \n",
    "    if e_comentario(valor):\n",
    "        comentario = str(valor).strip()\n",
    "        \n",
    "        # Substitui o conteúdo da coluna 'Comentários'\n",
    "        df_original.at[i, \"Comentários\"] = comentario\n",
    "        \n",
    "        # Marca como 1 reclamação no lugar do texto\n",
    "        df_original.at[i, \"Número de Reclamações\"] = 1\n",
    "\n",
    "# Garantir que a coluna está como numérica no final\n",
    "df_original[\"Número de Reclamações\"] = pd.to_numeric(df_original[\"Número de Reclamações\"], errors=\"coerce\")"
   ]
  },
  {
   "cell_type": "code",
   "execution_count": 338,
   "id": "226ca237",
   "metadata": {},
   "outputs": [],
   "source": [
    "# Preenchendo os valores nulos da coluna \"Comentários\" com a string \"sem comentário\"\n",
    "df_original[\"Comentários\"]= df_original[\"Comentários\"].fillna(\"sem comentários\")"
   ]
  },
  {
   "cell_type": "code",
   "execution_count": 339,
   "id": "9ad62ea3",
   "metadata": {},
   "outputs": [
    {
     "name": "stdout",
     "output_type": "stream",
     "text": [
      "Valores nulos na coluna comentário: 0\n"
     ]
    }
   ],
   "source": [
    "# Verificando se ainda restam valores nulos na coluna\n",
    "print(\"Valores nulos na coluna comentário:\", df_original[\"Comentários\"].isna().sum())"
   ]
  },
  {
   "cell_type": "code",
   "execution_count": 340,
   "id": "619b0cd2",
   "metadata": {},
   "outputs": [
    {
     "data": {
      "text/plain": [
       "ID                              0\n",
       "Nome                            0\n",
       "Idade                           0\n",
       "Gênero                          0\n",
       "Localização                     0\n",
       "Estado Civil                    0\n",
       "Número de Dependentes           0\n",
       "Data de Início do Contrato      0\n",
       "Data de Término do Contrato    98\n",
       "Valor Mensal do Contrato        0\n",
       "Tipo de Serviço                 0\n",
       "Duração Média das Chamadas     40\n",
       "Volume de Dados                15\n",
       "Número de Reclamações          15\n",
       "Comentários                     0\n",
       "Churn                           0\n",
       "Data de Referência              0\n",
       "Dias de Contrato                0\n",
       "Meses de Contrato               0\n",
       "dtype: int64"
      ]
     },
     "execution_count": 340,
     "metadata": {},
     "output_type": "execute_result"
    }
   ],
   "source": [
    "# Diagnóstico final de valores ausentes o DataFrame\n",
    "df_original.isna().sum()"
   ]
  },
  {
   "cell_type": "markdown",
   "id": "eefe8cb8",
   "metadata": {},
   "source": [
    "# Módulo 3 - Engenharia de Variáveis"
   ]
  },
  {
   "cell_type": "markdown",
   "id": "f2a5206f",
   "metadata": {},
   "source": [
    "## 3.1 Criação da coluna Reclamacoes_por_mes"
   ]
  },
  {
   "cell_type": "code",
   "execution_count": 341,
   "id": "e0547a3c",
   "metadata": {},
   "outputs": [],
   "source": [
    "# Convertendo a coluna \"Número de reclamações\" para tipo numérico\n",
    "# Caso haja valores inválidos, eles serão transformados em NaN\n",
    "df_original[\"Número de Reclamações\"] = pd.to_numeric(\n",
    "    df_original[\"Número de Reclamações\"], errors=\"coerce\"\n",
    ")"
   ]
  },
  {
   "cell_type": "code",
   "execution_count": 342,
   "id": "d8ba9b7f",
   "metadata": {},
   "outputs": [],
   "source": [
    "# Subtituindo valores nulos da coluna \"Número de Reclamações\" por \"0\"\n",
    "df_original[\"Número de Reclamações\"] = df_original[\"Número de Reclamações\"].fillna(0)"
   ]
  },
  {
   "cell_type": "code",
   "execution_count": 343,
   "id": "f283eee0",
   "metadata": {},
   "outputs": [],
   "source": [
    "# Evitando divisão por zero: substituindo os meses 0 por 1\n",
    "df_original[\"Meses de Contrato Ajustado\"] = df_original[\"Meses de Contrato\"].replace(0,1)"
   ]
  },
  {
   "cell_type": "code",
   "execution_count": 344,
   "id": "d2c28b7a",
   "metadata": {},
   "outputs": [],
   "source": [
    "# Criando a variável reclamações por mês\n",
    "df_original[\"Reclamações por mês\"]= (\n",
    "    df_original[\"Número de Reclamações\"] / df_original[\"Meses de Contrato Ajustado\"]\n",
    ").round(2)"
   ]
  },
  {
   "cell_type": "code",
   "execution_count": 345,
   "id": "002716c7",
   "metadata": {},
   "outputs": [
    {
     "data": {
      "text/html": [
       "<div>\n",
       "<style scoped>\n",
       "    .dataframe tbody tr th:only-of-type {\n",
       "        vertical-align: middle;\n",
       "    }\n",
       "\n",
       "    .dataframe tbody tr th {\n",
       "        vertical-align: top;\n",
       "    }\n",
       "\n",
       "    .dataframe thead th {\n",
       "        text-align: right;\n",
       "    }\n",
       "</style>\n",
       "<table border=\"1\" class=\"dataframe\">\n",
       "  <thead>\n",
       "    <tr style=\"text-align: right;\">\n",
       "      <th></th>\n",
       "      <th>ID</th>\n",
       "      <th>Nome</th>\n",
       "      <th>Idade</th>\n",
       "      <th>Gênero</th>\n",
       "      <th>Localização</th>\n",
       "      <th>Estado Civil</th>\n",
       "      <th>Número de Dependentes</th>\n",
       "      <th>Data de Início do Contrato</th>\n",
       "      <th>Data de Término do Contrato</th>\n",
       "      <th>Valor Mensal do Contrato</th>\n",
       "      <th>Tipo de Serviço</th>\n",
       "      <th>Duração Média das Chamadas</th>\n",
       "      <th>Volume de Dados</th>\n",
       "      <th>Número de Reclamações</th>\n",
       "      <th>Comentários</th>\n",
       "      <th>Churn</th>\n",
       "      <th>Data de Referência</th>\n",
       "      <th>Dias de Contrato</th>\n",
       "      <th>Meses de Contrato</th>\n",
       "      <th>Meses de Contrato Ajustado</th>\n",
       "      <th>Reclamações por mês</th>\n",
       "    </tr>\n",
       "  </thead>\n",
       "  <tbody>\n",
       "    <tr>\n",
       "      <th>0</th>\n",
       "      <td>1</td>\n",
       "      <td>João Silva</td>\n",
       "      <td>35</td>\n",
       "      <td>Masculino</td>\n",
       "      <td>São Paulo/SP/São Paulo</td>\n",
       "      <td>Casado</td>\n",
       "      <td>2</td>\n",
       "      <td>2018-05-10</td>\n",
       "      <td>NaT</td>\n",
       "      <td>79.99</td>\n",
       "      <td>Telefonia Móvel</td>\n",
       "      <td>4.50</td>\n",
       "      <td>2.3 GB</td>\n",
       "      <td>2.00</td>\n",
       "      <td>O serviço de internet tem sido instável. Estou tendo dificuldades para realizar videochamadas e assistir a filmes online. A velocidade da conexão é muito lenta e cai com frequência.</td>\n",
       "      <td>0</td>\n",
       "      <td>2025-05-18 15:27:49.217422</td>\n",
       "      <td>2565</td>\n",
       "      <td>86</td>\n",
       "      <td>86</td>\n",
       "      <td>0.02</td>\n",
       "    </tr>\n",
       "  </tbody>\n",
       "</table>\n",
       "</div>"
      ],
      "text/plain": [
       "   ID        Nome  Idade     Gênero             Localização Estado Civil  \\\n",
       "0   1  João Silva     35  Masculino  São Paulo/SP/São Paulo       Casado   \n",
       "\n",
       "   Número de Dependentes Data de Início do Contrato  \\\n",
       "0                      2                 2018-05-10   \n",
       "\n",
       "  Data de Término do Contrato  Valor Mensal do Contrato  Tipo de Serviço  \\\n",
       "0                         NaT                     79.99  Telefonia Móvel   \n",
       "\n",
       "   Duração Média das Chamadas Volume de Dados  Número de Reclamações  \\\n",
       "0                        4.50          2.3 GB                   2.00   \n",
       "\n",
       "                                                                                                                                                                             Comentários  \\\n",
       "0  O serviço de internet tem sido instável. Estou tendo dificuldades para realizar videochamadas e assistir a filmes online. A velocidade da conexão é muito lenta e cai com frequência.   \n",
       "\n",
       "   Churn         Data de Referência  Dias de Contrato  Meses de Contrato  \\\n",
       "0      0 2025-05-18 15:27:49.217422              2565                 86   \n",
       "\n",
       "   Meses de Contrato Ajustado  Reclamações por mês  \n",
       "0                          86                 0.02  "
      ]
     },
     "execution_count": 345,
     "metadata": {},
     "output_type": "execute_result"
    }
   ],
   "source": [
    "# Visualizando DataFrame\n",
    "df_original.head(1) "
   ]
  },
  {
   "cell_type": "markdown",
   "id": "57a166eb",
   "metadata": {},
   "source": [
    "## 3.2 Faixa etária"
   ]
  },
  {
   "cell_type": "code",
   "execution_count": 346,
   "id": "0f1684a4",
   "metadata": {},
   "outputs": [
    {
     "data": {
      "image/png": "[encoded data removed]",
      "text/plain": [
       "<Figure size 800x400 with 1 Axes>"
      ]
     },
     "metadata": {},
     "output_type": "display_data"
    }
   ],
   "source": [
    "# Histograma das idades\n",
    "plt.figure(figsize=(8,4))\n",
    "sns.histplot(\n",
    "    data=df_original[\"Idade\"],\n",
    "    bins=10\n",
    ")\n",
    "plt.title(\"Distribuição das idades dos clientes\")\n",
    "plt.xlabel(\"Idade\")\n",
    "plt.ylabel(\"Frequência\")\n",
    "plt.xticks(    \n",
    "    ticks=range(\n",
    "        int(df_original[\"Idade\"].min()),\n",
    "        int(df_original[\"Idade\"].max()+1),\n",
    "        2\n",
    "    )\n",
    ")\n",
    "plt.show()"
   ]
  },
  {
   "cell_type": "code",
   "execution_count": 347,
   "id": "96ff9277",
   "metadata": {},
   "outputs": [],
   "source": [
    "# Criando as faixas de idade\n",
    "df_original[\"Faixa Idade\"]= pd.cut(\n",
    "    df_original[\"Idade\"],\n",
    "    bins=[0,25,35,45, df_original[\"Idade\"].max()],\n",
    "    labels=[\n",
    "        \"Até 25 anos\",\n",
    "        \"26 a 35 anos\",\n",
    "        \"36 a 45 anos\",\n",
    "        \"Acima de 45 anos\"\n",
    "    ],\n",
    "    right=True,\n",
    "    include_lowest=True\n",
    ")"
   ]
  },
  {
   "cell_type": "code",
   "execution_count": 348,
   "id": "a7ba2c3f",
   "metadata": {},
   "outputs": [
    {
     "data": {
      "text/html": [
       "<div>\n",
       "<style scoped>\n",
       "    .dataframe tbody tr th:only-of-type {\n",
       "        vertical-align: middle;\n",
       "    }\n",
       "\n",
       "    .dataframe tbody tr th {\n",
       "        vertical-align: top;\n",
       "    }\n",
       "\n",
       "    .dataframe thead th {\n",
       "        text-align: right;\n",
       "    }\n",
       "</style>\n",
       "<table border=\"1\" class=\"dataframe\">\n",
       "  <thead>\n",
       "    <tr style=\"text-align: right;\">\n",
       "      <th></th>\n",
       "      <th>Idade</th>\n",
       "      <th>Faixa Idade</th>\n",
       "    </tr>\n",
       "  </thead>\n",
       "  <tbody>\n",
       "    <tr>\n",
       "      <th>0</th>\n",
       "      <td>35</td>\n",
       "      <td>26 a 35 anos</td>\n",
       "    </tr>\n",
       "    <tr>\n",
       "      <th>1</th>\n",
       "      <td>28</td>\n",
       "      <td>26 a 35 anos</td>\n",
       "    </tr>\n",
       "    <tr>\n",
       "      <th>2</th>\n",
       "      <td>42</td>\n",
       "      <td>36 a 45 anos</td>\n",
       "    </tr>\n",
       "    <tr>\n",
       "      <th>3</th>\n",
       "      <td>55</td>\n",
       "      <td>Acima de 45 anos</td>\n",
       "    </tr>\n",
       "    <tr>\n",
       "      <th>4</th>\n",
       "      <td>41</td>\n",
       "      <td>36 a 45 anos</td>\n",
       "    </tr>\n",
       "  </tbody>\n",
       "</table>\n",
       "</div>"
      ],
      "text/plain": [
       "   Idade       Faixa Idade\n",
       "0     35      26 a 35 anos\n",
       "1     28      26 a 35 anos\n",
       "2     42      36 a 45 anos\n",
       "3     55  Acima de 45 anos\n",
       "4     41      36 a 45 anos"
      ]
     },
     "execution_count": 348,
     "metadata": {},
     "output_type": "execute_result"
    }
   ],
   "source": [
    "# Visualizando resultado das faixas etárias\n",
    "df_original[[\"Idade\",\"Faixa Idade\"]].head(5)"
   ]
  },
  {
   "cell_type": "code",
   "execution_count": 349,
   "id": "afb859a4",
   "metadata": {},
   "outputs": [
    {
     "data": {
      "text/plain": [
       "Faixa Idade\n",
       "Até 25 anos          0\n",
       "26 a 35 anos        64\n",
       "36 a 45 anos        35\n",
       "Acima de 45 anos     3\n",
       "Name: count, dtype: int64"
      ]
     },
     "execution_count": 349,
     "metadata": {},
     "output_type": "execute_result"
    }
   ],
   "source": [
    "# Verificando a distribuição das idades\n",
    "df_original[\"Faixa Idade\"].value_counts().sort_index()"
   ]
  },
  {
   "cell_type": "markdown",
   "id": "6e8b054f",
   "metadata": {},
   "source": [
    "## 3.3 Flag para identificar se o cliente tem produto individual ou pacote"
   ]
  },
  {
   "cell_type": "code",
   "execution_count": 350,
   "id": "cf243a5f",
   "metadata": {},
   "outputs": [
    {
     "name": "stdout",
     "output_type": "stream",
     "text": [
      "['Telefonia Móvel' 'Internet' 'Telefonia Fixa' 'TV a Cabo']\n"
     ]
    }
   ],
   "source": [
    "# Exibindo valores únicos por tipo de serviço\n",
    "print(df_original[\"Tipo de Serviço\"].unique())"
   ]
  },
  {
   "cell_type": "code",
   "execution_count": 351,
   "id": "9ee57e8b",
   "metadata": {},
   "outputs": [],
   "source": [
    "# Filtrando os contratos ativos\n",
    "df_ativos= df_original[df_original[\"Data de Término do Contrato\"].isna()]"
   ]
  },
  {
   "cell_type": "code",
   "execution_count": 352,
   "id": "7d216c90",
   "metadata": {},
   "outputs": [],
   "source": [
    "# Contando quantos serviços ativos cada cliente possui\n",
    "servicos_ativos_por_cliente= df_ativos.groupby(\"ID\").size().reset_index(name=\"Qtd Serviços Ativos\")"
   ]
  },
  {
   "cell_type": "code",
   "execution_count": 353,
   "id": "34f185b4",
   "metadata": {},
   "outputs": [],
   "source": [
    "# Criando flag \"1\" se tiver mais de um serviço e \"0\" para somente um serviço\n",
    "servicos_ativos_por_cliente[\"Tem Pacote\"]= servicos_ativos_por_cliente[\"Qtd Serviços Ativos\"].apply(lambda x: 1 if x > 1 else 0)"
   ]
  },
  {
   "cell_type": "code",
   "execution_count": 354,
   "id": "abdc68d4",
   "metadata": {},
   "outputs": [],
   "source": [
    "# Unindo a coluna \"Tem Pacote\" com nosso DataFrame original\n",
    "df_original= df_original.merge(servicos_ativos_por_cliente[[\"ID\",\"Tem Pacote\"]], on=\"ID\", how=\"left\")"
   ]
  },
  {
   "cell_type": "code",
   "execution_count": 355,
   "id": "269de5b1",
   "metadata": {},
   "outputs": [],
   "source": [
    "# Preenchendo com 0 os clientes que estão com contratos cancelados\n",
    "df_original[\"Tem Pacote\"]= df_original[\"Tem Pacote\"].fillna(0).astype(int)"
   ]
  },
  {
   "cell_type": "code",
   "execution_count": 356,
   "id": "affc2b27",
   "metadata": {},
   "outputs": [
    {
     "data": {
      "text/html": [
       "<div>\n",
       "<style scoped>\n",
       "    .dataframe tbody tr th:only-of-type {\n",
       "        vertical-align: middle;\n",
       "    }\n",
       "\n",
       "    .dataframe tbody tr th {\n",
       "        vertical-align: top;\n",
       "    }\n",
       "\n",
       "    .dataframe thead th {\n",
       "        text-align: right;\n",
       "    }\n",
       "</style>\n",
       "<table border=\"1\" class=\"dataframe\">\n",
       "  <thead>\n",
       "    <tr style=\"text-align: right;\">\n",
       "      <th></th>\n",
       "      <th>ID</th>\n",
       "      <th>Nome</th>\n",
       "      <th>Idade</th>\n",
       "      <th>Gênero</th>\n",
       "      <th>Localização</th>\n",
       "      <th>Estado Civil</th>\n",
       "      <th>Número de Dependentes</th>\n",
       "      <th>Data de Início do Contrato</th>\n",
       "      <th>Data de Término do Contrato</th>\n",
       "      <th>Valor Mensal do Contrato</th>\n",
       "      <th>Tipo de Serviço</th>\n",
       "      <th>Duração Média das Chamadas</th>\n",
       "      <th>Volume de Dados</th>\n",
       "      <th>Número de Reclamações</th>\n",
       "      <th>Comentários</th>\n",
       "      <th>Churn</th>\n",
       "      <th>Data de Referência</th>\n",
       "      <th>Dias de Contrato</th>\n",
       "      <th>Meses de Contrato</th>\n",
       "      <th>Meses de Contrato Ajustado</th>\n",
       "      <th>Reclamações por mês</th>\n",
       "      <th>Faixa Idade</th>\n",
       "      <th>Tem Pacote</th>\n",
       "    </tr>\n",
       "  </thead>\n",
       "  <tbody>\n",
       "    <tr>\n",
       "      <th>0</th>\n",
       "      <td>1</td>\n",
       "      <td>João Silva</td>\n",
       "      <td>35</td>\n",
       "      <td>Masculino</td>\n",
       "      <td>São Paulo/SP/São Paulo</td>\n",
       "      <td>Casado</td>\n",
       "      <td>2</td>\n",
       "      <td>2018-05-10</td>\n",
       "      <td>NaT</td>\n",
       "      <td>79.99</td>\n",
       "      <td>Telefonia Móvel</td>\n",
       "      <td>4.50</td>\n",
       "      <td>2.3 GB</td>\n",
       "      <td>2.00</td>\n",
       "      <td>O serviço de internet tem sido instável. Estou tendo dificuldades para realizar videochamadas e assistir a filmes online. A velocidade da conexão é muito lenta e cai com frequência.</td>\n",
       "      <td>0</td>\n",
       "      <td>2025-05-18 15:27:49.217422</td>\n",
       "      <td>2565</td>\n",
       "      <td>86</td>\n",
       "      <td>86</td>\n",
       "      <td>0.02</td>\n",
       "      <td>26 a 35 anos</td>\n",
       "      <td>0</td>\n",
       "    </tr>\n",
       "    <tr>\n",
       "      <th>1</th>\n",
       "      <td>2</td>\n",
       "      <td>Maria Santos</td>\n",
       "      <td>28</td>\n",
       "      <td>Feminino</td>\n",
       "      <td>Rio de Janeiro/RJ/Rio de Janeiro</td>\n",
       "      <td>Solteiro</td>\n",
       "      <td>0</td>\n",
       "      <td>2019-03-15</td>\n",
       "      <td>NaT</td>\n",
       "      <td>109.99</td>\n",
       "      <td>Internet</td>\n",
       "      <td>NaN</td>\n",
       "      <td>-</td>\n",
       "      <td>0.00</td>\n",
       "      <td>Estou satisfeita com o serviço. A velocidade da internet é ótima e o suporte técnico sempre foi prestativo. Nunca tive problemas de conexão desde que assinei o serviço.</td>\n",
       "      <td>0</td>\n",
       "      <td>2025-05-18 15:27:49.217422</td>\n",
       "      <td>2256</td>\n",
       "      <td>75</td>\n",
       "      <td>75</td>\n",
       "      <td>0.00</td>\n",
       "      <td>26 a 35 anos</td>\n",
       "      <td>0</td>\n",
       "    </tr>\n",
       "  </tbody>\n",
       "</table>\n",
       "</div>"
      ],
      "text/plain": [
       "   ID          Nome  Idade     Gênero                       Localização  \\\n",
       "0   1    João Silva     35  Masculino            São Paulo/SP/São Paulo   \n",
       "1   2  Maria Santos     28   Feminino  Rio de Janeiro/RJ/Rio de Janeiro   \n",
       "\n",
       "  Estado Civil  Número de Dependentes Data de Início do Contrato  \\\n",
       "0       Casado                      2                 2018-05-10   \n",
       "1     Solteiro                      0                 2019-03-15   \n",
       "\n",
       "  Data de Término do Contrato  Valor Mensal do Contrato  Tipo de Serviço  \\\n",
       "0                         NaT                     79.99  Telefonia Móvel   \n",
       "1                         NaT                    109.99         Internet   \n",
       "\n",
       "   Duração Média das Chamadas Volume de Dados  Número de Reclamações  \\\n",
       "0                        4.50          2.3 GB                   2.00   \n",
       "1                         NaN               -                   0.00   \n",
       "\n",
       "                                                                                                                                                                             Comentários  \\\n",
       "0  O serviço de internet tem sido instável. Estou tendo dificuldades para realizar videochamadas e assistir a filmes online. A velocidade da conexão é muito lenta e cai com frequência.   \n",
       "1               Estou satisfeita com o serviço. A velocidade da internet é ótima e o suporte técnico sempre foi prestativo. Nunca tive problemas de conexão desde que assinei o serviço.   \n",
       "\n",
       "   Churn         Data de Referência  Dias de Contrato  Meses de Contrato  \\\n",
       "0      0 2025-05-18 15:27:49.217422              2565                 86   \n",
       "1      0 2025-05-18 15:27:49.217422              2256                 75   \n",
       "\n",
       "   Meses de Contrato Ajustado  Reclamações por mês   Faixa Idade  Tem Pacote  \n",
       "0                          86                 0.02  26 a 35 anos           0  \n",
       "1                          75                 0.00  26 a 35 anos           0  "
      ]
     },
     "execution_count": 356,
     "metadata": {},
     "output_type": "execute_result"
    }
   ],
   "source": [
    "df_original.head(2)"
   ]
  },
  {
   "cell_type": "markdown",
   "id": "0b0ca037",
   "metadata": {},
   "source": [
    "# Módulo 4 - Análise Exploratória Macro (Visão do Negócio)"
   ]
  },
  {
   "cell_type": "markdown",
   "id": "e27a0a4d",
   "metadata": {},
   "source": [
    "## 4.1 Entrada e saída de clientes (por ano)"
   ]
  },
  {
   "cell_type": "code",
   "execution_count": 357,
   "id": "d0c00318",
   "metadata": {},
   "outputs": [
    {
     "name": "stdout",
     "output_type": "stream",
     "text": [
      "Contratos iniciados:\n",
      "2017-08-01 00:00:00  -  2023-01-15 00:00:00\n",
      "\n",
      "Data do último contrato cancelado: 2023-09-30 00:00:00\n"
     ]
    }
   ],
   "source": [
    "# Verificando a granularidade das datas dos contratos\n",
    "print(\"Contratos iniciados:\")\n",
    "print(df_original[\"Data de Início do Contrato\"].min(), \" - \", df_original[\"Data de Início do Contrato\"].max())\n",
    "\n",
    "print(\"\\nData do último contrato cancelado:\", df_original[\"Data de Término do Contrato\"].max())"
   ]
  },
  {
   "cell_type": "code",
   "execution_count": 358,
   "id": "a8857a20",
   "metadata": {},
   "outputs": [
    {
     "name": "stdout",
     "output_type": "stream",
     "text": [
      "\n",
      "📈 Base acumulada de clientes por ano:\n",
      "    Ano  Entradas  Saidas  Base_Acumulada\n",
      "0  2017         5       0               5\n",
      "1  2018        20       0              25\n",
      "2  2019        17       0              42\n",
      "3  2020        16       0              58\n",
      "4  2021        12       1              69\n",
      "5  2022        23       2              90\n",
      "6  2023         9       1              98\n"
     ]
    },
    {
     "data": {
      "image/png": "[encoded data removed]",
      "text/plain": [
       "<Figure size 1000x500 with 1 Axes>"
      ]
     },
     "metadata": {},
     "output_type": "display_data"
    }
   ],
   "source": [
    "# Extraindo os anos de início e término do contrato\n",
    "df_original[\"Ano_Inicio\"] = df_original[\"Data de Início do Contrato\"].dt.year\n",
    "df_original[\"Ano_Termino\"] = df_original[\"Data de Término do Contrato\"].dt.year\n",
    "\n",
    "# Contando clientes únicos que entraram por ano (com base na data de início)\n",
    "entradas = df_original.groupby(\"Ano_Inicio\")[\"ID\"].nunique().reset_index()\n",
    "entradas.rename(columns={\"ID\": \"Entradas\"}, inplace=True)\n",
    "\n",
    "# Contando clientes únicos que saíram por ano (com base na data de término)\n",
    "saidas = df_original[df_original[\"Churn\"] == 1].groupby(\"Ano_Termino\")[\"ID\"].nunique().reset_index()\n",
    "saidas.rename(columns={\"ID\": \"Saidas\"}, inplace=True)\n",
    "\n",
    "# Unindo entradas e saídas\n",
    "movimento = pd.merge(entradas, saidas, left_on=\"Ano_Inicio\", right_on=\"Ano_Termino\", how=\"left\")\n",
    "movimento.rename(columns={\"Ano_Inicio\": \"Ano\"}, inplace=True)\n",
    "movimento.drop(columns=[\"Ano_Termino\"], inplace=True)\n",
    "movimento[\"Saidas\"] = movimento[\"Saidas\"].fillna(0).astype(int)\n",
    "\n",
    "# Ordenando os anos\n",
    "movimento = movimento.sort_values(\"Ano\")\n",
    "\n",
    "# Calculando a base acumulada de clientes\n",
    "movimento[\"Base_Acumulada\"] = movimento[\"Entradas\"].cumsum() - movimento[\"Saidas\"].cumsum()\n",
    "\n",
    "# Visualizando a tabela acumulada\n",
    "print(\"\\n📈 Base acumulada de clientes por ano:\")\n",
    "print(movimento[[\"Ano\", \"Entradas\", \"Saidas\", \"Base_Acumulada\"]])\n",
    "\n",
    "# Gráfico de linha única com base acumulada\n",
    "plt.figure(figsize=(10, 5))\n",
    "sns.lineplot(data=movimento, x=\"Ano\", y=\"Base_Acumulada\", marker=\"o\",label=\"Clientes ativos\")\n",
    "\n",
    "# Adiciona a linha de churns (clientes que saíram no ano)\n",
    "sns.lineplot(data=movimento, x=\"Ano\", y=\"Saidas\", marker=\"o\", label=\"Churns (Saídas no Ano)\", color=\"darkred\")\n",
    "\n",
    "# Adiciona os rótulos da linha de churn\n",
    "for i in range(len(movimento)):\n",
    "    ano = movimento[\"Ano\"].iloc[i]\n",
    "    saidas = movimento[\"Saidas\"].iloc[i]\n",
    "    plt.text(ano, saidas + 1, f\"{saidas}\", ha=\"center\", va=\"bottom\", fontsize=9, color=\"darkred\")\n",
    "\n",
    "# Adicionando os rótulos em cada ponto\n",
    "for i in range(len(movimento)):\n",
    "    ano = movimento[\"Ano\"].iloc[i]\n",
    "    base = movimento[\"Base_Acumulada\"].iloc[i]\n",
    "    plt.text(ano, base + 1, f\"{base:,}\".replace(\",\", \".\"), ha=\"center\", va=\"bottom\", fontsize=9)\n",
    "\n",
    "plt.title(\"Clientes Ativos vs Churn (Ano)\")\n",
    "plt.xlabel(\"Ano\")\n",
    "plt.ylabel(\"Total de Clientes\")\n",
    "plt.grid(False)\n",
    "plt.tight_layout()\n",
    "plt.show()\n"
   ]
  },
  {
   "cell_type": "code",
   "execution_count": 359,
   "id": "5d198ccb",
   "metadata": {},
   "outputs": [
    {
     "name": "stdout",
     "output_type": "stream",
     "text": [
      "\n",
      "📈 Crescimento da base de clientes ano a ano:\n",
      "    Ano  Base_Acumulada  Crescimento_Absoluto  Crescimento_%\n",
      "0  2017               5                   NaN            NaN\n",
      "1  2018              25                 20.00         400.00\n",
      "2  2019              42                 17.00          68.00\n",
      "3  2020              58                 16.00          38.10\n",
      "4  2021              69                 11.00          18.97\n",
      "5  2022              90                 21.00          30.43\n",
      "6  2023              98                  8.00           8.89\n",
      "\n",
      "📊 Crescimento médio percentual anual: 94.06%\n"
     ]
    }
   ],
   "source": [
    "# Calculando a variação absoluta ano a ano\n",
    "movimento[\"Crescimento_Absoluto\"] = movimento[\"Base_Acumulada\"].diff()\n",
    "\n",
    "# Calculando a variação percentual ano a ano\n",
    "movimento[\"Crescimento_%\"] = movimento[\"Base_Acumulada\"].pct_change() * 100\n",
    "\n",
    "# Exibindo a tabela com os dados\n",
    "print(\"\\n📈 Crescimento da base de clientes ano a ano:\")\n",
    "print(movimento[[\"Ano\", \"Base_Acumulada\", \"Crescimento_Absoluto\", \"Crescimento_%\"]])\n",
    "\n",
    "# Calculando a média de crescimento percentual (ignorando o primeiro ano que é NaN)\n",
    "media_percentual = movimento[\"Crescimento_%\"].mean(skipna=True)\n",
    "print(f\"\\n📊 Crescimento médio percentual anual: {media_percentual:.2f}%\")"
   ]
  },
  {
   "cell_type": "code",
   "execution_count": 360,
   "id": "e833644b",
   "metadata": {},
   "outputs": [
    {
     "data": {
      "image/png": "[encoded data removed]",
      "text/plain": [
       "<Figure size 1000x500 with 1 Axes>"
      ]
     },
     "metadata": {},
     "output_type": "display_data"
    }
   ],
   "source": [
    "# Criando gráfico da variação percentual da base com rótulos\n",
    "plt.figure(figsize=(10, 5))\n",
    "sns.lineplot(data=movimento, x=\"Ano\", y=\"Crescimento_%\", marker=\"o\", color=\"orange\")\n",
    "\n",
    "# Adicionando uma linha horizontal de referência (0%)\n",
    "plt.axhline(0, linestyle=\"--\", color=\"gray\", alpha=0.5)\n",
    "\n",
    "# Adicionando os rótulos nos pontos\n",
    "for i in range(len(movimento)):\n",
    "    ano = movimento[\"Ano\"].iloc[i]\n",
    "    valor = movimento[\"Crescimento_%\"].iloc[i]\n",
    "    \n",
    "    if pd.notnull(valor):\n",
    "        plt.text(ano, valor + 0.5, f\"{valor:.1f}%\", ha=\"center\", va=\"bottom\", fontsize=9)\n",
    "\n",
    "plt.title(\"Variação Percentual da Base de Clientes (Ano)\")\n",
    "plt.xlabel(\"Ano\")\n",
    "plt.ylabel(\"Crescimento Anual (%)\")\n",
    "plt.grid(False)\n",
    "plt.tight_layout()\n",
    "plt.show()"
   ]
  },
  {
   "cell_type": "markdown",
   "id": "205a4970",
   "metadata": {},
   "source": [
    "## 4.2 Evolução do faturamento"
   ]
  },
  {
   "cell_type": "code",
   "execution_count": 361,
   "id": "62a784a4",
   "metadata": {},
   "outputs": [
    {
     "name": "stdout",
     "output_type": "stream",
     "text": [
      "\n",
      "📊 Faturamento anual (considerando clientes ativos em cada ano):\n",
      "    Ano  Faturamento_Anual\n",
      "0  2017          10,559.40\n",
      "1  2018          40,797.00\n",
      "2  2019          66,954.96\n",
      "3  2020          92,633.04\n",
      "4  2021         108,831.60\n",
      "5  2022         136,548.96\n",
      "6  2023         143,268.12\n"
     ]
    },
    {
     "data": {
      "image/png": "[encoded data removed]",
      "text/plain": [
       "<Figure size 1000x500 with 1 Axes>"
      ]
     },
     "metadata": {},
     "output_type": "display_data"
    }
   ],
   "source": [
    "# Colocando datas no formato datetime\n",
    "df_original[\"Data de Início do Contrato\"] = pd.to_datetime(df_original[\"Data de Início do Contrato\"])\n",
    "df_original[\"Data de Término do Contrato\"] = pd.to_datetime(df_original[\"Data de Término do Contrato\"])\n",
    "\n",
    "# Criando colunas com o ano\n",
    "df_original[\"Ano_Inicio\"] = df_original[\"Data de Início do Contrato\"].dt.year\n",
    "df_original[\"Ano_Termino\"] = df_original[\"Data de Término do Contrato\"].dt.year\n",
    "\n",
    "# Garantindo que os limites do range sejam inteiros válidos\n",
    "ano_min = int(df_original[\"Ano_Inicio\"].min())\n",
    "ano_max = int(df_original[[\"Ano_Inicio\", \"Ano_Termino\"]].dropna().max().max())\n",
    "anos = list(range(ano_min, ano_max + 1))\n",
    "\n",
    "# Lista para armazenar resultados\n",
    "faturamento_anual = []\n",
    "\n",
    "# Loop por ano para considerar apenas os clientes ativos no ano\n",
    "for ano in anos:\n",
    "    ativos_ano = df_original[\n",
    "        (df_original[\"Ano_Inicio\"] <= ano) &\n",
    "        ((df_original[\"Ano_Termino\"].isna()) | (df_original[\"Ano_Termino\"] >= ano))\n",
    "    ]\n",
    "    \n",
    "    # Faturamento = valor mensal * 12\n",
    "    faturamento = ativos_ano[\"Valor Mensal do Contrato\"].sum() * 12\n",
    "    \n",
    "    faturamento_anual.append({\"Ano\": ano, \"Faturamento_Anual\": faturamento})\n",
    "\n",
    "# Criando DataFrame final\n",
    "df_faturamento = pd.DataFrame(faturamento_anual)\n",
    "\n",
    "# Visualização tabular\n",
    "print(\"\\n📊 Faturamento anual (considerando clientes ativos em cada ano):\")\n",
    "print(df_faturamento)\n",
    "\n",
    "# Gráfico de barras\n",
    "plt.figure(figsize=(10, 5))\n",
    "sns.barplot(data=df_faturamento, x=\"Ano\", y=\"Faturamento_Anual\", color=\"skyblue\")\n",
    "\n",
    "# Rótulos\n",
    "for i in range(len(df_faturamento)):\n",
    "    ano = df_faturamento[\"Ano\"].iloc[i]\n",
    "    valor = df_faturamento[\"Faturamento_Anual\"].iloc[i]\n",
    "    plt.text(i, valor + 1000, f\"R$ {valor:,.0f}\".replace(\",\", \".\"), ha=\"center\", va=\"bottom\", fontsize=9)\n",
    "\n",
    "plt.title(\"Faturamento Realizado dos Clientes Ativos (Ano)\")\n",
    "plt.xlabel(\"Ano\")\n",
    "plt.ylabel(\"Faturamento Anual (R$)\")\n",
    "plt.grid(False)\n",
    "plt.tight_layout()\n",
    "plt.show()"
   ]
  },
  {
   "cell_type": "code",
   "execution_count": 362,
   "id": "0f4ca0b8",
   "metadata": {},
   "outputs": [
    {
     "data": {
      "image/png": "[encoded data removed]",
      "text/plain": [
       "<Figure size 1000x500 with 1 Axes>"
      ]
     },
     "metadata": {},
     "output_type": "display_data"
    }
   ],
   "source": [
    "# Calculando crescimento percentual\n",
    "df_faturamento[\"Crescimento (%)\"] = df_faturamento[\"Faturamento_Anual\"].pct_change() * 100\n",
    "df_faturamento[\"Crescimento (%)\"] = df_faturamento[\"Crescimento (%)\"].round(2)\n",
    "\n",
    "# Gráfico de linha com o crescimento percentual\n",
    "plt.figure(figsize=(10, 5))\n",
    "sns.lineplot(data=df_faturamento, x=\"Ano\", y=\"Crescimento (%)\", marker=\"o\", color=\"orange\")\n",
    "\n",
    "# Rótulos\n",
    "for i in range(1, len(df_faturamento)):\n",
    "    ano = df_faturamento[\"Ano\"].iloc[i]\n",
    "    crescimento = df_faturamento[\"Crescimento (%)\"].iloc[i]\n",
    "    plt.text(ano, crescimento + 0.5, f\"{crescimento:.2f}%\", ha=\"center\", va=\"bottom\", fontsize=9)\n",
    "\n",
    "plt.title(\"Crescimento Percentual do Faturamento Ano a Ano\")\n",
    "plt.xlabel(\"Ano\")\n",
    "plt.ylabel(\"Crescimento (%)\")\n",
    "plt.axhline(0, color='gray', linestyle='--')  # Linha de referência\n",
    "plt.grid(False)\n",
    "plt.tight_layout()\n",
    "plt.show()"
   ]
  },
  {
   "cell_type": "markdown",
   "id": "188a6266",
   "metadata": {},
   "source": [
    "## 4.3 Vendas por tipo de serviço"
   ]
  },
  {
   "cell_type": "code",
   "execution_count": 363,
   "id": "9a88dfdb",
   "metadata": {},
   "outputs": [
    {
     "name": "stdout",
     "output_type": "stream",
     "text": [
      "\n",
      "📊 Faturamento total por tipo de serviço:\n",
      "      Tipo_Servico  Faturamento_Total\n",
      "0         Internet           3,759.69\n",
      "1        TV a Cabo           3,349.75\n",
      "2   Telefonia Fixa           2,919.77\n",
      "3  Telefonia Móvel           2,299.77\n"
     ]
    },
    {
     "data": {
      "image/png": "[encoded data removed]",
      "text/plain": [
       "<Figure size 1000x500 with 1 Axes>"
      ]
     },
     "metadata": {},
     "output_type": "display_data"
    }
   ],
   "source": [
    "# Agrupando o valor total gerado por tipo de serviço\n",
    "faturamento_servicos = df_original.groupby(\"Tipo de Serviço\")[\"Valor Mensal do Contrato\"].sum().reset_index()\n",
    "\n",
    "# Renomeando colunas\n",
    "faturamento_servicos.columns = [\"Tipo_Servico\", \"Faturamento_Total\"]\n",
    "\n",
    "# Ordenando do maior para o menor\n",
    "faturamento_servicos = faturamento_servicos.sort_values(\"Faturamento_Total\", ascending=False)\n",
    "\n",
    "# Visualizando os dados\n",
    "print(\"\\n📊 Faturamento total por tipo de serviço:\")\n",
    "print(faturamento_servicos)\n",
    "\n",
    "# Gráfico de barras horizontais\n",
    "plt.figure(figsize=(10, 5))\n",
    "sns.barplot(data=faturamento_servicos, y=\"Tipo_Servico\", x=\"Faturamento_Total\", palette=\"Greens_d\")\n",
    "\n",
    "# Adicionando rótulos formatados com ponto (estilo BR)\n",
    "for i, row in faturamento_servicos.iterrows():\n",
    "    plt.text(row[\"Faturamento_Total\"] + 0.5, i, f\"R$ {row['Faturamento_Total']:,.0f}\".replace(\",\", \".\"), \n",
    "             va=\"center\", fontsize=9)\n",
    "\n",
    "plt.title(\"Vendas por Tipo de Serviço\")\n",
    "plt.xlabel(\"Venda Total (R$)\")\n",
    "plt.ylabel(\"Tipo de Serviço\")\n",
    "plt.grid(False)\n",
    "plt.tight_layout()\n",
    "plt.show()"
   ]
  },
  {
   "cell_type": "markdown",
   "id": "c800f1bc",
   "metadata": {},
   "source": [
    "## 4.4 Ticket Médio"
   ]
  },
  {
   "cell_type": "code",
   "execution_count": 364,
   "id": "b006be30",
   "metadata": {},
   "outputs": [
    {
     "name": "stdout",
     "output_type": "stream",
     "text": [
      "\n",
      "💰 Ticket Médio Geral: R$ 122,07\n"
     ]
    }
   ],
   "source": [
    "# Garantir que o valor mensal está numérico\n",
    "df_original[\"Valor Mensal do Contrato\"] = pd.to_numeric(df_original[\"Valor Mensal do Contrato\"], errors=\"coerce\")\n",
    "\n",
    "# Ticket médio geral\n",
    "ticket_medio_geral = df_original[\"Valor Mensal do Contrato\"].sum() / df_original[\"ID\"].nunique()\n",
    "\n",
    "# Exibir formatado\n",
    "print(f\"\\n💰 Ticket Médio Geral: R$ {ticket_medio_geral:.2f}\".replace(\".\", \",\"))"
   ]
  },
  {
   "cell_type": "code",
   "execution_count": 365,
   "id": "5d7c48dc",
   "metadata": {},
   "outputs": [
    {
     "name": "stdout",
     "output_type": "stream",
     "text": [
      "\n",
      "📊 Ticket Médio por Tipo de Serviço:\n",
      "      Tipo_Servico  Ticket_Medio\n",
      "1        TV a Cabo        133.99\n",
      "2   Telefonia Fixa        126.95\n",
      "0         Internet        121.28\n",
      "3  Telefonia Móvel         99.99\n"
     ]
    },
    {
     "data": {
      "image/png": "[encoded data removed]",
      "text/plain": [
       "<Figure size 800x500 with 1 Axes>"
      ]
     },
     "metadata": {},
     "output_type": "display_data"
    }
   ],
   "source": [
    "# Calcular o faturamento total por tipo de serviço\n",
    "faturamento_por_servico = df_original.groupby(\"Tipo de Serviço\")[\"Valor Mensal do Contrato\"].sum()\n",
    "\n",
    "# Contar o número de clientes por tipo de serviço\n",
    "clientes_por_servico = df_original.groupby(\"Tipo de Serviço\")[\"ID\"].nunique()\n",
    "\n",
    "# Calcular o ticket médio\n",
    "ticket_medio = (faturamento_por_servico / clientes_por_servico).reset_index()\n",
    "ticket_medio.columns = [\"Tipo_Servico\", \"Ticket_Medio\"]\n",
    "\n",
    "# Ordenar do maior para o menor\n",
    "ticket_medio = ticket_medio.sort_values(\"Ticket_Medio\", ascending=False)\n",
    "\n",
    "# Visualizar\n",
    "print(\"\\n📊 Ticket Médio por Tipo de Serviço:\")\n",
    "print(ticket_medio)\n",
    "\n",
    "# Ordenar do maior para o menor\n",
    "ticket_medio = ticket_medio.sort_values(\"Ticket_Medio\", ascending=False)\n",
    "\n",
    "# Gráfico de barras verticais\n",
    "plt.figure(figsize=(8, 5))\n",
    "ax = sns.barplot(data=ticket_medio, x=\"Tipo_Servico\", y=\"Ticket_Medio\", palette=\"Blues_d\")\n",
    "\n",
    "# Adiciona rótulos limpos acima das barras\n",
    "for p in ax.patches:\n",
    "    valor = p.get_height()\n",
    "    x = p.get_x() + p.get_width() / 2\n",
    "    y = p.get_height()\n",
    "    ax.text(x, y + 0.5, f\"R$ {valor:.2f}\".replace(\".\", \",\"), ha=\"center\", va=\"bottom\", fontsize=9)\n",
    "\n",
    "plt.title(\"Ticket Médio por Tipo de Serviço\")\n",
    "plt.xlabel(\"Tipo de Serviço\")\n",
    "plt.ylabel(\"Ticket Médio (R$)\")\n",
    "plt.xticks(rotation=45, ha=\"right\")\n",
    "plt.grid(False)\n",
    "plt.tight_layout()\n",
    "plt.show()"
   ]
  },
  {
   "cell_type": "markdown",
   "id": "b28a305e",
   "metadata": {},
   "source": [
    "# Módulo 5 – NLP com LLM (Zero-Shot Classification via HuggingFace)"
   ]
  },
  {
   "cell_type": "markdown",
   "id": "0250dc57",
   "metadata": {},
   "source": [
    "## 5.1 Limpeza e preparação da coluna Comentários"
   ]
  },
  {
   "cell_type": "code",
   "execution_count": 366,
   "id": "5684a07b",
   "metadata": {},
   "outputs": [
    {
     "name": "stdout",
     "output_type": "stream",
     "text": [
      "\n",
      "🧹 Amostra da coluna limpa:\n",
      "                                                                                                                                                                                                           Comentários  \\\n",
      "0                                O serviço de internet tem sido instável. Estou tendo dificuldades para realizar videochamadas e assistir a filmes online. A velocidade da conexão é muito lenta e cai com frequência.   \n",
      "1                                             Estou satisfeita com o serviço. A velocidade da internet é ótima e o suporte técnico sempre foi prestativo. Nunca tive problemas de conexão desde que assinei o serviço.   \n",
      "2  Tive problemas com a fatura deste mês. O valor cobrado está incorreto e não consigo entrar em contato com o atendimento ao cliente. Já enviei diversos emails e tentei ligar várias vezes, mas não obtive resposta.   \n",
      "3                                      Sem reclamações até o momento. O serviço tem atendido às minhas expectativas e não tenho tido problemas com a conexão. As ligações são claras e o atendimento ao cliente é bom.   \n",
      "4                          O canal de esportes não está funcionando corretamente. A imagem fica pixelada e o áudio está com falhas. Já entrei em contato com o suporte técnico algumas vezes, mas o problema persiste.   \n",
      "\n",
      "                                                                                                                                                                                                    Comentarios_Limpos  \n",
      "0                                o serviço de internet tem sido instável. estou tendo dificuldades para realizar videochamadas e assistir a filmes online. a velocidade da conexão é muito lenta e cai com frequência.  \n",
      "1                                             estou satisfeita com o serviço. a velocidade da internet é ótima e o suporte técnico sempre foi prestativo. nunca tive problemas de conexão desde que assinei o serviço.  \n",
      "2  tive problemas com a fatura deste mês. o valor cobrado está incorreto e não consigo entrar em contato com o atendimento ao cliente. já enviei diversos emails e tentei ligar várias vezes, mas não obtive resposta.  \n",
      "3                                      sem reclamações até o momento. o serviço tem atendido às minhas expectativas e não tenho tido problemas com a conexão. as ligações são claras e o atendimento ao cliente é bom.  \n",
      "4                          o canal de esportes não está funcionando corretamente. a imagem fica pixelada e o áudio está com falhas. já entrei em contato com o suporte técnico algumas vezes, mas o problema persiste.  \n"
     ]
    }
   ],
   "source": [
    "# Preenchendo valores nulos com texto padrão\n",
    "df_original[\"Comentários\"] = df_original[\"Comentários\"].fillna(\"sem_comentario\")\n",
    "\n",
    "# Padronizando: lowercase e remoção de espaços laterais\n",
    "df_original[\"Comentarios_Limpos\"] = df_original[\"Comentários\"].apply(lambda x: x.strip().lower())\n",
    "\n",
    "# Verificando resultado\n",
    "print(\"\\n🧹 Amostra da coluna limpa:\")\n",
    "print(df_original[[\"Comentários\", \"Comentarios_Limpos\"]].head())"
   ]
  },
  {
   "cell_type": "markdown",
   "id": "4f1ac09d",
   "metadata": {},
   "source": [
    "## 5.2 Carregamento do modelo facebook/bart-large-mnli"
   ]
  },
  {
   "cell_type": "code",
   "execution_count": 367,
   "id": "3e40cb0c",
   "metadata": {},
   "outputs": [
    {
     "name": "stderr",
     "output_type": "stream",
     "text": [
      "Device set to use cpu\n"
     ]
    },
    {
     "name": "stdout",
     "output_type": "stream",
     "text": [
      "\n",
      "Modelo carregado com sucesso!\n"
     ]
    }
   ],
   "source": [
    "os.environ[\"USE_TF\"] = \"0\"  # Desativa TensorFlow/Keras\n",
    "\n",
    "# Modelo multilíngue robusto para zero-shot em português\n",
    "zero_shot_classifier = pipeline(\n",
    "    task=\"zero-shot-classification\",\n",
    "    model=\"facebook/bart-large-mnli\"\n",
    ")\n",
    "\n",
    "print(\"\\nModelo carregado com sucesso!\")"
   ]
  },
  {
   "cell_type": "markdown",
   "id": "91ab62ed",
   "metadata": {},
   "source": [
    "## 5.3 Definir as categorias que o modelo vai usar para classificar os comentários"
   ]
  },
  {
   "cell_type": "code",
   "execution_count": 368,
   "id": "a7dfca15",
   "metadata": {},
   "outputs": [
    {
     "name": "stderr",
     "output_type": "stream",
     "text": [
      "[nltk_data] Downloading package stopwords to C:\\Users\\Otávio\n",
      "[nltk_data]     Guedes\\AppData\\Roaming\\nltk_data...\n",
      "[nltk_data]   Package stopwords is already up-to-date!\n"
     ]
    },
    {
     "data": {
      "text/html": [
       "<div>\n",
       "<style scoped>\n",
       "    .dataframe tbody tr th:only-of-type {\n",
       "        vertical-align: middle;\n",
       "    }\n",
       "\n",
       "    .dataframe tbody tr th {\n",
       "        vertical-align: top;\n",
       "    }\n",
       "\n",
       "    .dataframe thead th {\n",
       "        text-align: right;\n",
       "    }\n",
       "</style>\n",
       "<table border=\"1\" class=\"dataframe\">\n",
       "  <thead>\n",
       "    <tr style=\"text-align: right;\">\n",
       "      <th></th>\n",
       "      <th>palavra</th>\n",
       "      <th>frequencia</th>\n",
       "    </tr>\n",
       "  </thead>\n",
       "  <tbody>\n",
       "    <tr>\n",
       "      <th>0</th>\n",
       "      <td>serviço</td>\n",
       "      <td>73</td>\n",
       "    </tr>\n",
       "    <tr>\n",
       "      <th>1</th>\n",
       "      <td>empresa</td>\n",
       "      <td>51</td>\n",
       "    </tr>\n",
       "    <tr>\n",
       "      <th>2</th>\n",
       "      <td>internet</td>\n",
       "      <td>44</td>\n",
       "    </tr>\n",
       "    <tr>\n",
       "      <th>3</th>\n",
       "      <td>qualidade</td>\n",
       "      <td>44</td>\n",
       "    </tr>\n",
       "    <tr>\n",
       "      <th>4</th>\n",
       "      <td>problemas</td>\n",
       "      <td>43</td>\n",
       "    </tr>\n",
       "    <tr>\n",
       "      <th>5</th>\n",
       "      <td>telefonia</td>\n",
       "      <td>42</td>\n",
       "    </tr>\n",
       "    <tr>\n",
       "      <th>6</th>\n",
       "      <td>cobertura</td>\n",
       "      <td>29</td>\n",
       "    </tr>\n",
       "    <tr>\n",
       "      <th>7</th>\n",
       "      <td>recomendo</td>\n",
       "      <td>29</td>\n",
       "    </tr>\n",
       "    <tr>\n",
       "      <th>8</th>\n",
       "      <td>suporte</td>\n",
       "      <td>27</td>\n",
       "    </tr>\n",
       "    <tr>\n",
       "      <th>9</th>\n",
       "      <td>conexão</td>\n",
       "      <td>26</td>\n",
       "    </tr>\n",
       "    <tr>\n",
       "      <th>10</th>\n",
       "      <td>dessa</td>\n",
       "      <td>25</td>\n",
       "    </tr>\n",
       "    <tr>\n",
       "      <th>11</th>\n",
       "      <td>técnico</td>\n",
       "      <td>24</td>\n",
       "    </tr>\n",
       "    <tr>\n",
       "      <th>12</th>\n",
       "      <td>nunca</td>\n",
       "      <td>24</td>\n",
       "    </tr>\n",
       "    <tr>\n",
       "      <th>13</th>\n",
       "      <td>velocidade</td>\n",
       "      <td>23</td>\n",
       "    </tr>\n",
       "    <tr>\n",
       "      <th>14</th>\n",
       "      <td>satisfeita</td>\n",
       "      <td>23</td>\n",
       "    </tr>\n",
       "    <tr>\n",
       "      <th>15</th>\n",
       "      <td>canais</td>\n",
       "      <td>23</td>\n",
       "    </tr>\n",
       "    <tr>\n",
       "      <th>16</th>\n",
       "      <td>fixa</td>\n",
       "      <td>22</td>\n",
       "    </tr>\n",
       "    <tr>\n",
       "      <th>17</th>\n",
       "      <td>ligações</td>\n",
       "      <td>21</td>\n",
       "    </tr>\n",
       "    <tr>\n",
       "      <th>18</th>\n",
       "      <td>chamadas</td>\n",
       "      <td>21</td>\n",
       "    </tr>\n",
       "    <tr>\n",
       "      <th>19</th>\n",
       "      <td>claras</td>\n",
       "      <td>20</td>\n",
       "    </tr>\n",
       "    <tr>\n",
       "      <th>20</th>\n",
       "      <td>cabo</td>\n",
       "      <td>20</td>\n",
       "    </tr>\n",
       "    <tr>\n",
       "      <th>21</th>\n",
       "      <td>móvel</td>\n",
       "      <td>20</td>\n",
       "    </tr>\n",
       "    <tr>\n",
       "      <th>22</th>\n",
       "      <td>cliente</td>\n",
       "      <td>19</td>\n",
       "    </tr>\n",
       "    <tr>\n",
       "      <th>23</th>\n",
       "      <td>dinheiro</td>\n",
       "      <td>19</td>\n",
       "    </tr>\n",
       "    <tr>\n",
       "      <th>24</th>\n",
       "      <td>completa</td>\n",
       "      <td>19</td>\n",
       "    </tr>\n",
       "    <tr>\n",
       "      <th>25</th>\n",
       "      <td>valor</td>\n",
       "      <td>18</td>\n",
       "    </tr>\n",
       "    <tr>\n",
       "      <th>26</th>\n",
       "      <td>satisfeito</td>\n",
       "      <td>18</td>\n",
       "    </tr>\n",
       "    <tr>\n",
       "      <th>27</th>\n",
       "      <td>atendimento</td>\n",
       "      <td>17</td>\n",
       "    </tr>\n",
       "    <tr>\n",
       "      <th>28</th>\n",
       "      <td>sinal</td>\n",
       "      <td>17</td>\n",
       "    </tr>\n",
       "    <tr>\n",
       "      <th>29</th>\n",
       "      <td>mensal</td>\n",
       "      <td>17</td>\n",
       "    </tr>\n",
       "  </tbody>\n",
       "</table>\n",
       "</div>"
      ],
      "text/plain": [
       "        palavra  frequencia\n",
       "0       serviço          73\n",
       "1       empresa          51\n",
       "2      internet          44\n",
       "3     qualidade          44\n",
       "4     problemas          43\n",
       "5     telefonia          42\n",
       "6     cobertura          29\n",
       "7     recomendo          29\n",
       "8       suporte          27\n",
       "9       conexão          26\n",
       "10        dessa          25\n",
       "11      técnico          24\n",
       "12        nunca          24\n",
       "13   velocidade          23\n",
       "14   satisfeita          23\n",
       "15       canais          23\n",
       "16         fixa          22\n",
       "17     ligações          21\n",
       "18     chamadas          21\n",
       "19       claras          20\n",
       "20         cabo          20\n",
       "21        móvel          20\n",
       "22      cliente          19\n",
       "23     dinheiro          19\n",
       "24     completa          19\n",
       "25        valor          18\n",
       "26   satisfeito          18\n",
       "27  atendimento          17\n",
       "28        sinal          17\n",
       "29       mensal          17"
      ]
     },
     "metadata": {},
     "output_type": "display_data"
    }
   ],
   "source": [
    "# Baixar stopwords se necessário\n",
    "nltk.download('stopwords')\n",
    "\n",
    "# Lista de stopwords em português\n",
    "stopwords_pt = set(stopwords.words('portuguese'))\n",
    "\n",
    "# Função para limpeza + tokenização\n",
    "def extrair_tokens(texto):\n",
    "    if pd.isna(texto):\n",
    "        return []\n",
    "    # Remover caracteres não-letras\n",
    "    texto_limpo = re.sub(r\"[^a-zA-Záéíóúãõâêôçàèìòùü\\s]\", \"\", texto.lower())\n",
    "    tokens = texto_limpo.split()\n",
    "    # Filtrar tokens úteis\n",
    "    tokens_filtrados = [\n",
    "        t for t in tokens\n",
    "        if t not in stopwords_pt and len(t) >= 4\n",
    "    ]\n",
    "    return tokens_filtrados\n",
    "\n",
    "# Aplicar a todos os comentários\n",
    "df_original[\"tokens_util\"] = df_original[\"Comentarios_Limpos\"].apply(extrair_tokens)\n",
    "\n",
    "# Contar frequência geral\n",
    "todos_tokens = [token for lista in df_original[\"tokens_util\"] for token in lista]\n",
    "contagem = Counter(todos_tokens)\n",
    "mais_frequentes = contagem.most_common(50)\n",
    "\n",
    "# Contar frequência total de cada item em cada coluna\n",
    "contagem_tokens = Counter([token for lista in df_original[\"tokens_util\"] for token in lista])\n",
    "\n",
    "# Pegar os 30 mais frequentes\n",
    "top_tokens = contagem_tokens.most_common(30)\n",
    "\n",
    "# Converter para DataFrames para visualização\n",
    "df_top_tokens = pd.DataFrame(top_tokens, columns=[\"palavra\", \"frequencia\"])\n",
    "\n",
    "# Visualizando\n",
    "display(df_top_tokens)"
   ]
  },
  {
   "cell_type": "code",
   "execution_count": 369,
   "id": "306cb6f9",
   "metadata": {},
   "outputs": [
    {
     "name": "stdout",
     "output_type": "stream",
     "text": [
      "\n",
      " Categorias definidas para classificação:\n",
      "• reclamação (problemas)\n",
      "• elogio (satisfeita)\n",
      "• neutro\n"
     ]
    }
   ],
   "source": [
    "# Lista de categorias que queremos identificar nos comentários\n",
    "categorias_zero_shot = [\n",
    "    \"reclamação (problemas)\",\n",
    "    \"elogio (satisfeita)\",\n",
    "    \"neutro\"\n",
    "]\n",
    "\n",
    "# Exibindo as categorias definidas\n",
    "print(\"\\n Categorias definidas para classificação:\")\n",
    "for c in categorias_zero_shot:\n",
    "    print(f\"• {c}\")"
   ]
  },
  {
   "cell_type": "markdown",
   "id": "34181a93",
   "metadata": {},
   "source": [
    "## 5.4 Classificação zero-shot dos comentários"
   ]
  },
  {
   "cell_type": "code",
   "execution_count": 370,
   "id": "e0454fd6",
   "metadata": {},
   "outputs": [
    {
     "name": "stdout",
     "output_type": "stream",
     "text": [
      "\n",
      "🔍 Classificando comentários...\n"
     ]
    },
    {
     "name": "stderr",
     "output_type": "stream",
     "text": [
      "100%|██████████| 102/102 [01:29<00:00,  1.14it/s]\n"
     ]
    }
   ],
   "source": [
    "# Lista de comentários que vamos classificar (limpos)\n",
    "comentarios = df_original[\"Comentários\"].tolist()\n",
    "\n",
    "# Lista para armazenar as categorias classificadas\n",
    "categorias_preditas = []\n",
    "\n",
    "# Aplicando classificação com progresso\n",
    "print(\"\\n🔍 Classificando comentários...\")\n",
    "for texto in tqdm(comentarios):\n",
    "    try:\n",
    "        resultado = zero_shot_classifier(\n",
    "            sequences=texto,\n",
    "            candidate_labels=categorias_zero_shot,\n",
    "            multi_label=False\n",
    "        )\n",
    "        categoria = resultado[\"labels\"][0]  # pega a mais provável\n",
    "    except Exception as e:\n",
    "        categoria = \"erro\"\n",
    "\n",
    "    categorias_preditas.append(categoria)"
   ]
  },
  {
   "cell_type": "markdown",
   "id": "3cbf0317",
   "metadata": {},
   "source": [
    "## 5.5 Geração da coluna categoria_reclamacao"
   ]
  },
  {
   "cell_type": "code",
   "execution_count": 371,
   "id": "8adf251b",
   "metadata": {},
   "outputs": [],
   "source": [
    "# Criando a nova coluna no DataFrame\n",
    "df_original[\"Categoria_Comentario\"] = categorias_preditas"
   ]
  },
  {
   "cell_type": "code",
   "execution_count": 372,
   "id": "0dc4395a",
   "metadata": {},
   "outputs": [
    {
     "data": {
      "text/html": [
       "<div>\n",
       "<style scoped>\n",
       "    .dataframe tbody tr th:only-of-type {\n",
       "        vertical-align: middle;\n",
       "    }\n",
       "\n",
       "    .dataframe tbody tr th {\n",
       "        vertical-align: top;\n",
       "    }\n",
       "\n",
       "    .dataframe thead th {\n",
       "        text-align: right;\n",
       "    }\n",
       "</style>\n",
       "<table border=\"1\" class=\"dataframe\">\n",
       "  <thead>\n",
       "    <tr style=\"text-align: right;\">\n",
       "      <th></th>\n",
       "      <th>Comentários</th>\n",
       "      <th>Categoria_Comentario</th>\n",
       "    </tr>\n",
       "  </thead>\n",
       "  <tbody>\n",
       "    <tr>\n",
       "      <th>30</th>\n",
       "      <td>O serviço de telefonia móvel é satisfatório. As chamadas são claras e a internet atende às minhas necessidades. O preço também é competitivo.</td>\n",
       "      <td>elogio (satisfeita)</td>\n",
       "    </tr>\n",
       "    <tr>\n",
       "      <th>67</th>\n",
       "      <td>A qualidade da internet é excelente. A velocidade é rápida e a conexão é estável. Nunca tive problemas de queda de sinal. Estou muito satisfeita com o serviço!</td>\n",
       "      <td>elogio (satisfeita)</td>\n",
       "    </tr>\n",
       "    <tr>\n",
       "      <th>62</th>\n",
       "      <td>A qualidade da internet é excelente. A velocidade é rápida e a conexão é estável. Nunca tive problemas de queda de sinal. Estou muito satisfeita com o serviço!</td>\n",
       "      <td>elogio (satisfeita)</td>\n",
       "    </tr>\n",
       "  </tbody>\n",
       "</table>\n",
       "</div>"
      ],
      "text/plain": [
       "                                                                                                                                                        Comentários  \\\n",
       "30                    O serviço de telefonia móvel é satisfatório. As chamadas são claras e a internet atende às minhas necessidades. O preço também é competitivo.   \n",
       "67  A qualidade da internet é excelente. A velocidade é rápida e a conexão é estável. Nunca tive problemas de queda de sinal. Estou muito satisfeita com o serviço!   \n",
       "62  A qualidade da internet é excelente. A velocidade é rápida e a conexão é estável. Nunca tive problemas de queda de sinal. Estou muito satisfeita com o serviço!   \n",
       "\n",
       "   Categoria_Comentario  \n",
       "30  elogio (satisfeita)  \n",
       "67  elogio (satisfeita)  \n",
       "62  elogio (satisfeita)  "
      ]
     },
     "execution_count": 372,
     "metadata": {},
     "output_type": "execute_result"
    }
   ],
   "source": [
    "# Aumenta o número de caracteres visíveis por célula\n",
    "pd.set_option(\"display.max_colwidth\", 500)\n",
    "\n",
    "# Visualizando o DataFrame\n",
    "df_original[[\"Comentários\", \"Categoria_Comentario\"]].sample(3)"
   ]
  },
  {
   "cell_type": "code",
   "execution_count": 373,
   "id": "5c98c0e7",
   "metadata": {},
   "outputs": [
    {
     "data": {
      "text/plain": [
       "Categoria_Comentario\n",
       "elogio (satisfeita)       56\n",
       "reclamação (problemas)    45\n",
       "neutro                     1\n",
       "Name: count, dtype: int64"
      ]
     },
     "execution_count": 373,
     "metadata": {},
     "output_type": "execute_result"
    }
   ],
   "source": [
    "df_original[\"Categoria_Comentario\"].value_counts()"
   ]
  },
  {
   "cell_type": "code",
   "execution_count": 374,
   "id": "127c9b34",
   "metadata": {},
   "outputs": [],
   "source": [
    "# Criando o número de reclamações ajustado\n",
    "def ajustar_reclamacoes(row):\n",
    "    nr = row[\"Número de Reclamações\"]\n",
    "    cat = row[\"Categoria_Comentario\"]\n",
    "\n",
    "    # Trata valores nulos e converte para inteiro\n",
    "    try:\n",
    "        nr = int(nr)\n",
    "    except:\n",
    "        nr = 0\n",
    "\n",
    "    # Regra de decisão\n",
    "    if nr >= 2:\n",
    "        return nr\n",
    "    elif cat == \"reclamação (problemas)\":\n",
    "        return 1\n",
    "    else:\n",
    "        return 0\n",
    "\n",
    "# Criar nova coluna ajustada\n",
    "df_original[\"Número de Reclamações Ajustado\"] = df_original.apply(ajustar_reclamacoes, axis=1)"
   ]
  },
  {
   "cell_type": "code",
   "execution_count": 375,
   "id": "31d759b8",
   "metadata": {},
   "outputs": [
    {
     "data": {
      "text/html": [
       "<div>\n",
       "<style scoped>\n",
       "    .dataframe tbody tr th:only-of-type {\n",
       "        vertical-align: middle;\n",
       "    }\n",
       "\n",
       "    .dataframe tbody tr th {\n",
       "        vertical-align: top;\n",
       "    }\n",
       "\n",
       "    .dataframe thead th {\n",
       "        text-align: right;\n",
       "    }\n",
       "</style>\n",
       "<table border=\"1\" class=\"dataframe\">\n",
       "  <thead>\n",
       "    <tr style=\"text-align: right;\">\n",
       "      <th></th>\n",
       "      <th>Número de Reclamações</th>\n",
       "      <th>Número de Reclamações Ajustado</th>\n",
       "      <th>Comentários</th>\n",
       "      <th>Categoria_Comentario</th>\n",
       "    </tr>\n",
       "  </thead>\n",
       "  <tbody>\n",
       "    <tr>\n",
       "      <th>63</th>\n",
       "      <td>0.00</td>\n",
       "      <td>0</td>\n",
       "      <td>Estou satisfeita com o serviço de telefonia móvel. As chamadas são claras e a internet atende às minhas necessidades. Nunca tive problemas de cobertura até agora. O preço também é razoável. Recomendo!</td>\n",
       "      <td>elogio (satisfeita)</td>\n",
       "    </tr>\n",
       "    <tr>\n",
       "      <th>15</th>\n",
       "      <td>0.00</td>\n",
       "      <td>0</td>\n",
       "      <td>Estou satisfeita com o serviço de telefonia móvel. A cobertura é boa e a internet é rápida.</td>\n",
       "      <td>elogio (satisfeita)</td>\n",
       "    </tr>\n",
       "    <tr>\n",
       "      <th>87</th>\n",
       "      <td>1.00</td>\n",
       "      <td>1</td>\n",
       "      <td>Estou extremamente desapontada com o serviço de TV a cabo dessa empresa. A qualidade dos canais é horrível, o sinal some constantemente e o atendimento ao cliente é inexistente. É uma completa perda de dinheiro e tempo.</td>\n",
       "      <td>reclamação (problemas)</td>\n",
       "    </tr>\n",
       "  </tbody>\n",
       "</table>\n",
       "</div>"
      ],
      "text/plain": [
       "    Número de Reclamações  Número de Reclamações Ajustado  \\\n",
       "63                   0.00                               0   \n",
       "15                   0.00                               0   \n",
       "87                   1.00                               1   \n",
       "\n",
       "                                                                                                                                                                                                                    Comentários  \\\n",
       "63                     Estou satisfeita com o serviço de telefonia móvel. As chamadas são claras e a internet atende às minhas necessidades. Nunca tive problemas de cobertura até agora. O preço também é razoável. Recomendo!   \n",
       "15                                                                                                                                  Estou satisfeita com o serviço de telefonia móvel. A cobertura é boa e a internet é rápida.   \n",
       "87  Estou extremamente desapontada com o serviço de TV a cabo dessa empresa. A qualidade dos canais é horrível, o sinal some constantemente e o atendimento ao cliente é inexistente. É uma completa perda de dinheiro e tempo.   \n",
       "\n",
       "      Categoria_Comentario  \n",
       "63     elogio (satisfeita)  \n",
       "15     elogio (satisfeita)  \n",
       "87  reclamação (problemas)  "
      ]
     },
     "execution_count": 375,
     "metadata": {},
     "output_type": "execute_result"
    }
   ],
   "source": [
    "# Visualizando o DataFrame\n",
    "df_original[[\"Número de Reclamações\",\"Número de Reclamações Ajustado\",\"Comentários\",\"Categoria_Comentario\"]].sample(3)"
   ]
  },
  {
   "cell_type": "markdown",
   "id": "ccbb03ea",
   "metadata": {},
   "source": [
    "# Módulo 6 – Análise Exploratória Micro"
   ]
  },
  {
   "cell_type": "markdown",
   "id": "d844d651",
   "metadata": {},
   "source": [
    "## 6.1 Número de reclamações"
   ]
  },
  {
   "cell_type": "code",
   "execution_count": 376,
   "id": "e6f7acc8",
   "metadata": {},
   "outputs": [
    {
     "data": {
      "image/png": "[encoded data removed]",
      "text/plain": [
       "<Figure size 1000x500 with 1 Axes>"
      ]
     },
     "metadata": {},
     "output_type": "display_data"
    }
   ],
   "source": [
    "# 1. Conversão segura da coluna\n",
    "df_original[\"Número de Reclamações Ajustado\"] = pd.to_numeric(df_original[\"Número de Reclamações Ajustado\"], errors=\"coerce\").fillna(0)\n",
    "\n",
    "# 2. Agrupando entradas de clientes por ano de início\n",
    "entradas = df_original.groupby(\"Ano_Inicio\")[\"ID\"].nunique().reset_index()\n",
    "entradas.rename(columns={\"ID\": \"Entradas\"}, inplace=True)\n",
    "\n",
    "# 3. Agrupando saídas (churn) por ano de término\n",
    "saidas = df_original[df_original[\"Churn\"] == 1].groupby(\"Ano_Termino\")[\"ID\"].nunique().reset_index()\n",
    "saidas.rename(columns={\"ID\": \"Saidas\"}, inplace=True)\n",
    "\n",
    "# 4. Reclamações por ano de início\n",
    "reclamacoes = df_original.groupby(\"Ano_Inicio\")[\"Número de Reclamações Ajustado\"].sum().reset_index()\n",
    "\n",
    "# 5. Unindo tudo\n",
    "evolucao = pd.merge(entradas, saidas, left_on=\"Ano_Inicio\", right_on=\"Ano_Termino\", how=\"left\")\n",
    "evolucao = pd.merge(evolucao, reclamacoes, on=\"Ano_Inicio\", how=\"left\")\n",
    "\n",
    "# 6. Limpeza e renomeações\n",
    "evolucao.rename(columns={\"Ano_Inicio\": \"Ano\"}, inplace=True)\n",
    "evolucao.drop(columns=[\"Ano_Termino\"], inplace=True)\n",
    "evolucao[\"Saidas\"] = evolucao[\"Saidas\"].fillna(0).astype(int)\n",
    "evolucao[\"Número de Reclamações Ajustado\"] = evolucao[\"Número de Reclamações Ajustado\"].fillna(0).astype(int)\n",
    "\n",
    "# 7. Cálculo acumulado: clientes líquidos e reclamações\n",
    "evolucao[\"Clientes_Acumulado\"] = evolucao[\"Entradas\"].cumsum() - evolucao[\"Saidas\"].cumsum()\n",
    "evolucao[\"Reclamacoes_Acumulado\"] = evolucao[\"Número de Reclamações Ajustado\"].cumsum()\n",
    "\n",
    "# 8. Gráfico\n",
    "plt.figure(figsize=(10, 5))\n",
    "sns.lineplot(data=evolucao, x=\"Ano\", y=\"Clientes_Acumulado\", marker=\"o\", label=\"Clientes Ativos (Acumulado)\", color=\"steelblue\")\n",
    "sns.lineplot(data=evolucao, x=\"Ano\", y=\"Número de Reclamações Ajustado\", marker=\"o\", label=\"Reclamações (Ano)\", color=\"darkred\")\n",
    "\n",
    "# 9. Rótulos em cada ponto\n",
    "for i in range(len(evolucao)):\n",
    "    ano = evolucao[\"Ano\"].iloc[i]\n",
    "    clientes = evolucao[\"Clientes_Acumulado\"].iloc[i]\n",
    "    reclames = evolucao[\"Número de Reclamações Ajustado\"].iloc[i]\n",
    "    plt.text(ano, clientes + 1, f\"{int(clientes)}\", ha=\"center\", va=\"bottom\", fontsize=8, color=\"steelblue\")\n",
    "    plt.text(ano, reclames + 1, f\"{int(reclames)}\", ha=\"center\", va=\"bottom\", fontsize=8, color=\"darkred\")\n",
    "\n",
    "plt.title(\"Evolução: Base de Clientes Ativos vs Reclamações (Ano)\")\n",
    "plt.xlabel(\"Ano\")\n",
    "plt.ylabel(\"Quantidade\")\n",
    "plt.legend()\n",
    "plt.grid(False)\n",
    "plt.tight_layout()\n",
    "plt.show()"
   ]
  },
  {
   "cell_type": "code",
   "execution_count": 377,
   "id": "48d96cc8",
   "metadata": {},
   "outputs": [
    {
     "name": "stdout",
     "output_type": "stream",
     "text": [
      "\n",
      "📊 Total de Reclamações por Tipo de Serviço:\n",
      "      Tipo_Servico  Total_Reclamacoes\n",
      "0         Internet                 13\n",
      "1        TV a Cabo                 13\n",
      "3  Telefonia Móvel                 13\n",
      "2   Telefonia Fixa                  8\n"
     ]
    }
   ],
   "source": [
    "# Garantir que o número de reclamações seja numérico\n",
    "df_original[\"Número de Reclamações Ajustado\"] = pd.to_numeric(df_original[\"Número de Reclamações Ajustado\"], errors=\"coerce\").fillna(0)\n",
    "\n",
    "# Agrupar por tipo de serviço e somar as reclamações\n",
    "reclamacoes_por_servico = df_original.groupby(\"Tipo de Serviço\")[\"Número de Reclamações Ajustado\"].sum().reset_index()\n",
    "\n",
    "# Renomear coluna para visualização\n",
    "reclamacoes_por_servico.columns = [\"Tipo_Servico\", \"Total_Reclamacoes\"]\n",
    "\n",
    "# Ordenar do maior para o menor\n",
    "reclamacoes_por_servico = reclamacoes_por_servico.sort_values(\"Total_Reclamacoes\", ascending=False)\n",
    "\n",
    "# Visualizar\n",
    "print(\"\\n📊 Total de Reclamações por Tipo de Serviço:\")\n",
    "print(reclamacoes_por_servico)"
   ]
  },
  {
   "cell_type": "code",
   "execution_count": 378,
   "id": "27ac3767",
   "metadata": {},
   "outputs": [
    {
     "data": {
      "image/png": "[encoded data removed]",
      "text/plain": [
       "<Figure size 1000x600 with 1 Axes>"
      ]
     },
     "metadata": {},
     "output_type": "display_data"
    }
   ],
   "source": [
    "# Agrupar e somar reclamações ajustadas por tipo de serviço\n",
    "df_reclamacoes_por_servico = df_original.groupby(\"Tipo de Serviço\")[\"Número de Reclamações Ajustado\"].sum().sort_values(ascending=False)\n",
    "\n",
    "# Gráfico\n",
    "plt.figure(figsize=(10,6))\n",
    "ax = df_reclamacoes_por_servico.plot(kind=\"bar\", color=\"#fee0d2\")\n",
    "\n",
    "# Adicionar rótulos acima das barras\n",
    "for p in ax.patches:\n",
    "    ax.annotate(\n",
    "        f'{int(p.get_height())}', \n",
    "        (p.get_x() + p.get_width() / 2, p.get_height()), \n",
    "        ha='center', va='bottom', fontsize=10, fontweight='bold'\n",
    "    )\n",
    "\n",
    "# Estética\n",
    "plt.title(\"Número de Reclamações por Tipo de Serviço\", fontsize=14)\n",
    "plt.ylabel(\"Reclamações\", fontsize=12)\n",
    "plt.xlabel(\"Tipo de Serviço\", fontsize=12)\n",
    "plt.xticks(rotation=45)\n",
    "plt.grid(False)\n",
    "plt.tight_layout()\n",
    "plt.show()"
   ]
  },
  {
   "cell_type": "markdown",
   "id": "49545420",
   "metadata": {},
   "source": [
    "## 6.2 Perfil sociodemográfico das reclamações"
   ]
  },
  {
   "cell_type": "code",
   "execution_count": 379,
   "id": "2a659761",
   "metadata": {},
   "outputs": [],
   "source": [
    "df_reclamacoes = df_original[df_original[\"Número de Reclamações Ajustado\"] >= 1]"
   ]
  },
  {
   "cell_type": "code",
   "execution_count": 380,
   "id": "ecf7e227",
   "metadata": {},
   "outputs": [
    {
     "data": {
      "image/png": "[encoded data removed]",
      "text/plain": [
       "<Figure size 600x400 with 1 Axes>"
      ]
     },
     "metadata": {},
     "output_type": "display_data"
    }
   ],
   "source": [
    "# Filtrar apenas quem reclamou\n",
    "df_reclamacoes = df_original[df_original[\"Número de Reclamações Ajustado\"] >= 1]\n",
    "\n",
    "# Agrupar por Gênero\n",
    "reclamacoes_genero = df_reclamacoes[\"Gênero\"].value_counts().sort_values(ascending=False)\n",
    "\n",
    "# Gráfico\n",
    "plt.figure(figsize=(6,4))\n",
    "ax = reclamacoes_genero.plot(kind=\"bar\", color=\"steelblue\")\n",
    "\n",
    "for p in ax.patches:\n",
    "    ax.annotate(f'{int(p.get_height())}',\n",
    "                (p.get_x() + p.get_width() / 2, p.get_height()),\n",
    "                ha='center', va='bottom', fontsize=10, fontweight='bold')\n",
    "\n",
    "plt.title(\"Reclamações por Gênero\")\n",
    "plt.ylabel(\"Quantidade de Reclamações\")\n",
    "plt.xlabel(\"Gênero\")\n",
    "plt.xticks(rotation=0)\n",
    "plt.grid(False)\n",
    "plt.tight_layout()\n",
    "plt.show()"
   ]
  },
  {
   "cell_type": "code",
   "execution_count": 381,
   "id": "108a5341",
   "metadata": {},
   "outputs": [
    {
     "data": {
      "image/png": "[encoded data removed]",
      "text/plain": [
       "<Figure size 800x400 with 1 Axes>"
      ]
     },
     "metadata": {},
     "output_type": "display_data"
    }
   ],
   "source": [
    "reclamacoes_idade = df_reclamacoes[\"Faixa Idade\"].value_counts().sort_index()\n",
    "\n",
    "# Gráfico\n",
    "plt.figure(figsize=(8,4))\n",
    "ax = reclamacoes_idade.plot(kind=\"bar\", color=\"seagreen\")\n",
    "\n",
    "for p in ax.patches:\n",
    "    ax.annotate(f'{int(p.get_height())}',\n",
    "                (p.get_x() + p.get_width() / 2, p.get_height()),\n",
    "                ha='center', va='bottom', fontsize=10, fontweight='bold')\n",
    "\n",
    "plt.title(\"Reclamações por Faixa Etária\")\n",
    "plt.ylabel(\"Quantidade de Reclamações\")\n",
    "plt.xlabel(\"Faixa Etária\")\n",
    "plt.xticks(rotation=45)\n",
    "plt.grid(False)\n",
    "plt.tight_layout()\n",
    "plt.show()"
   ]
  },
  {
   "cell_type": "code",
   "execution_count": 382,
   "id": "ae0a2b4e",
   "metadata": {},
   "outputs": [
    {
     "data": {
      "image/png": "[encoded data removed]",
      "text/plain": [
       "<Figure size 700x400 with 1 Axes>"
      ]
     },
     "metadata": {},
     "output_type": "display_data"
    }
   ],
   "source": [
    "reclamacoes_estado_civil = df_reclamacoes[\"Estado Civil\"].value_counts()\n",
    "\n",
    "# Gráfico\n",
    "plt.figure(figsize=(7,4))\n",
    "ax = reclamacoes_estado_civil.plot(kind=\"bar\", color=\"darkorange\")\n",
    "\n",
    "for p in ax.patches:\n",
    "    ax.annotate(f'{int(p.get_height())}',\n",
    "                (p.get_x() + p.get_width() / 2, p.get_height()),\n",
    "                ha='center', va='bottom', fontsize=10, fontweight='bold')\n",
    "\n",
    "plt.title(\"Reclamações por Estado Civil\")\n",
    "plt.ylabel(\"Quantidade de Reclamações\")\n",
    "plt.xlabel(\"Estado Civil\")\n",
    "plt.xticks(rotation=0)\n",
    "plt.grid(False)\n",
    "plt.tight_layout()\n",
    "plt.show()"
   ]
  },
  {
   "cell_type": "markdown",
   "id": "0b9b8b8d",
   "metadata": {},
   "source": [
    "## 6.3 Reclamações por localização"
   ]
  },
  {
   "cell_type": "code",
   "execution_count": 383,
   "id": "ee5bd833",
   "metadata": {},
   "outputs": [],
   "source": [
    "# Criar uma nova coluna 'Estado' com o conteúdo após a barra \"/\"\n",
    "df_original[\"Estado\"] = df_original[\"Localização\"].str.extract(r\"/([A-Z]{2})\")"
   ]
  },
  {
   "cell_type": "code",
   "execution_count": 384,
   "id": "df64e226",
   "metadata": {},
   "outputs": [
    {
     "data": {
      "image/png": "[encoded data removed]",
      "text/plain": [
       "<Figure size 1000x500 with 1 Axes>"
      ]
     },
     "metadata": {},
     "output_type": "display_data"
    }
   ],
   "source": [
    "# Filtrar quem reclamou\n",
    "df_reclamacoes = df_original[df_original[\"Número de Reclamações Ajustado\"] >= 1]\n",
    "\n",
    "# Contar reclamações por estado\n",
    "reclamacoes_estado = df_reclamacoes[\"Estado\"].value_counts().sort_values(ascending=False)\n",
    "\n",
    "# Gráfico\n",
    "plt.figure(figsize=(10,5))\n",
    "ax = reclamacoes_estado.plot(kind=\"bar\", color=\"mediumpurple\")\n",
    "\n",
    "for p in ax.patches:\n",
    "    ax.annotate(f'{int(p.get_height())}',\n",
    "                (p.get_x() + p.get_width() / 2, p.get_height()),\n",
    "                ha='center', va='bottom', fontsize=10, fontweight='bold')\n",
    "\n",
    "plt.title(\"Reclamações por Estado\")\n",
    "plt.ylabel(\"Quantidade de Reclamações\")\n",
    "plt.xlabel(\"Estado\")\n",
    "plt.xticks(rotation=0)\n",
    "plt.grid(False)\n",
    "plt.tight_layout()\n",
    "plt.show()"
   ]
  },
  {
   "cell_type": "markdown",
   "id": "39c6a2b9",
   "metadata": {},
   "source": [
    "## 6.4 Produto isolado x pacote"
   ]
  },
  {
   "cell_type": "code",
   "execution_count": 385,
   "id": "7d2fe8e0",
   "metadata": {},
   "outputs": [
    {
     "data": {
      "image/png": "[encoded data removed]",
      "text/plain": [
       "<Figure size 600x400 with 1 Axes>"
      ]
     },
     "metadata": {},
     "output_type": "display_data"
    }
   ],
   "source": [
    "# Contagem por tipo de produto\n",
    "contagem_produto = df_original[\"Tem Pacote\"].value_counts().rename(index={True: \"Pacote\", False: \"Isolado\"})\n",
    "\n",
    "# Gráfico\n",
    "import matplotlib.pyplot as plt\n",
    "\n",
    "plt.figure(figsize=(6,4))\n",
    "ax = contagem_produto.plot(kind=\"bar\", color=\"mediumseagreen\")\n",
    "\n",
    "for p in ax.patches:\n",
    "    ax.annotate(f'{int(p.get_height())}', \n",
    "                (p.get_x() + p.get_width() / 2, p.get_height()),\n",
    "                ha='center', va='bottom', fontsize=10, fontweight='bold')\n",
    "\n",
    "plt.title(\"Distribuição de Clientes: Produto Isolado vs Pacote\")\n",
    "plt.ylabel(\"Quantidade de Clientes\")\n",
    "plt.xlabel(\"Tipo de Produto\")\n",
    "plt.xticks(rotation=0)\n",
    "plt.grid(False)\n",
    "plt.tight_layout()\n",
    "plt.show()"
   ]
  },
  {
   "cell_type": "code",
   "execution_count": 386,
   "id": "a4dcac62",
   "metadata": {},
   "outputs": [
    {
     "name": "stdout",
     "output_type": "stream",
     "text": [
      "\n",
      "🔹 Clientes com Pacote:\n"
     ]
    },
    {
     "data": {
      "text/html": [
       "<div>\n",
       "<style scoped>\n",
       "    .dataframe tbody tr th:only-of-type {\n",
       "        vertical-align: middle;\n",
       "    }\n",
       "\n",
       "    .dataframe tbody tr th {\n",
       "        vertical-align: top;\n",
       "    }\n",
       "\n",
       "    .dataframe thead th {\n",
       "        text-align: right;\n",
       "    }\n",
       "</style>\n",
       "<table border=\"1\" class=\"dataframe\">\n",
       "  <thead>\n",
       "    <tr style=\"text-align: right;\">\n",
       "      <th></th>\n",
       "      <th>ID</th>\n",
       "      <th>Nome</th>\n",
       "    </tr>\n",
       "  </thead>\n",
       "  <tbody>\n",
       "    <tr>\n",
       "      <th>0</th>\n",
       "      <td>1068</td>\n",
       "      <td>Gabriela Almeida</td>\n",
       "    </tr>\n",
       "    <tr>\n",
       "      <th>1</th>\n",
       "      <td>1068</td>\n",
       "      <td>Julio Santos</td>\n",
       "    </tr>\n",
       "  </tbody>\n",
       "</table>\n",
       "</div>"
      ],
      "text/plain": [
       "     ID              Nome\n",
       "0  1068  Gabriela Almeida\n",
       "1  1068      Julio Santos"
      ]
     },
     "metadata": {},
     "output_type": "display_data"
    }
   ],
   "source": [
    "# Filtrar clientes com pacote\n",
    "df_pacote = df_original[df_original[\"Tem Pacote\"] == True]\n",
    "\n",
    "# Selecionar colunas desejadas\n",
    "df_pacote_simples = df_pacote[[\"ID\", \"Nome\"]].reset_index(drop=True)\n",
    "\n",
    "# Exibir a tabela\n",
    "print(\"\\n🔹 Clientes com Pacote:\")\n",
    "display(df_pacote_simples.head(10))"
   ]
  },
  {
   "cell_type": "markdown",
   "id": "9c044335",
   "metadata": {},
   "source": [
    "## 6.5 – Estratégia de Pacotes"
   ]
  },
  {
   "cell_type": "code",
   "execution_count": 387,
   "id": "a6e130fe",
   "metadata": {},
   "outputs": [
    {
     "name": "stdout",
     "output_type": "stream",
     "text": [
      "🔹 Ticket médio por serviço isolado:\n",
      "Tipo de Serviço\n",
      "Internet          121.28\n",
      "TV a Cabo         133.99\n",
      "Telefonia Fixa    126.95\n",
      "Telefonia Móvel    99.99\n",
      "Name: Valor Mensal do Contrato, dtype: float64\n",
      "\n",
      "💡 Ticket do pacote com desconto de 20%: R$ 385.77\n"
     ]
    }
   ],
   "source": [
    "# 1. Calcular o ticket médio por tipo de serviço (individualmente)\n",
    "ticket_por_servico = df_original.groupby(\"Tipo de Serviço\")[\"Valor Mensal do Contrato\"].mean()\n",
    "\n",
    "# 2. Soma total dos tickets médios\n",
    "valor_total_isolado = ticket_por_servico.sum()\n",
    "\n",
    "# 3. Aplicar desconto de 20% para o pacote completo\n",
    "ticket_pacote_simulado = valor_total_isolado * 0.80  # 20% de desconto\n",
    "\n",
    "# 5. Calcular ticket médio atual da base\n",
    "ticket_medio_atual = df_original[\"Valor Mensal do Contrato\"].mean()\n",
    "\n",
    "# Exibir resultados\n",
    "print(\"🔹 Ticket médio por serviço isolado:\")\n",
    "print(ticket_por_servico.round(2))\n",
    "print(f\"\\n💡 Ticket do pacote com desconto de 20%: R$ {ticket_pacote_simulado:.2f}\")"
   ]
  },
  {
   "cell_type": "markdown",
   "id": "5bc08bef",
   "metadata": {},
   "source": [
    "# Módulo 7 – Salvando o DataFrame"
   ]
  },
  {
   "cell_type": "code",
   "execution_count": 388,
   "id": "849b3b50",
   "metadata": {},
   "outputs": [
    {
     "data": {
      "text/plain": [
       "(102, 30)"
      ]
     },
     "execution_count": 388,
     "metadata": {},
     "output_type": "execute_result"
    }
   ],
   "source": [
    "df_original.shape"
   ]
  },
  {
   "cell_type": "code",
   "execution_count": 389,
   "id": "ae175b33",
   "metadata": {},
   "outputs": [],
   "source": [
    "# Salvando DataFrame na maquina local\n",
    "#df_original.to_csv(\"G:/Meu Drive/Data Science/Projetos/Telecom churn analysis/data/beta_churn_com_texto_ajustada.csv\", index=False, encoding=\"utf-8-sig\")"
   ]
  }
 ],
 "metadata": {
  "kernelspec": {
   "display_name": "base",
   "language": "python",
   "name": "python3"
  },
  "language_info": {
   "codemirror_mode": {
    "name": "ipython",
    "version": 3
   },
   "file_extension": ".py",
   "mimetype": "text/x-python",
   "name": "python",
   "nbconvert_exporter": "python",
   "pygments_lexer": "ipython3",
   "version": "3.12.7"
  }
 },
 "nbformat": 4,
 "nbformat_minor": 5
}
